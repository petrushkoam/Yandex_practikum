{
 "cells": [
  {
   "cell_type": "markdown",
   "metadata": {},
   "source": [
    "# Исследование надёжности заёмщиков"
   ]
  },
  {
   "cell_type": "markdown",
   "metadata": {},
   "source": [
    "Заказчик — кредитный отдел банка.   \n",
    "Нужно выяснить несколько вопросов для кредитного отдела банка:   \n",
    "-\tЕсть ли зависимость между наличием детей и возвратом кредита в срок?\n",
    "-\tЕсть ли зависимость между семейным положением и возвратом кредита в срок?\n",
    "-\tЕсть ли зависимость между уровнем дохода и возвратом кредита в срок?\n",
    "-\tКак разные цели кредита влияют на его возврат в срок?\n",
    "\n",
    "Входные данные от банка — статистика о платёжеспособности клиентов.\n",
    "\n",
    "Результаты исследования будут учтены при построении модели **кредитного скоринга** — специальной системы, которая оценивает способность потенциального заёмщика вернуть кредит банку."
   ]
  },
  {
   "cell_type": "markdown",
   "metadata": {},
   "source": [
    "### Шаг 1. Откройте файл с данными и изучите общую информацию. "
   ]
  },
  {
   "cell_type": "code",
   "execution_count": 1,
   "metadata": {},
   "outputs": [],
   "source": [
    "from IPython.core.interactiveshell import InteractiveShell\n",
    "InteractiveShell.ast_node_interactivity = \"all\"\n",
    "\n",
    "import pandas as pd\n",
    "import numpy as np\n",
    "\n",
    "from pymystem3 import Mystem\n",
    "m = Mystem()\n",
    "from collections import Counter\n",
    "\n",
    "import matplotlib.pyplot as plt"
   ]
  },
  {
   "cell_type": "code",
   "execution_count": 2,
   "metadata": {},
   "outputs": [
    {
     "data": {
      "text/plain": [
       "(21525, 12)"
      ]
     },
     "execution_count": 2,
     "metadata": {},
     "output_type": "execute_result"
    },
    {
     "name": "stdout",
     "output_type": "stream",
     "text": [
      "<class 'pandas.core.frame.DataFrame'>\n",
      "RangeIndex: 21525 entries, 0 to 21524\n",
      "Data columns (total 12 columns):\n",
      "children            21525 non-null int64\n",
      "days_employed       19351 non-null float64\n",
      "dob_years           21525 non-null int64\n",
      "education           21525 non-null object\n",
      "education_id        21525 non-null int64\n",
      "family_status       21525 non-null object\n",
      "family_status_id    21525 non-null int64\n",
      "gender              21525 non-null object\n",
      "income_type         21525 non-null object\n",
      "debt                21525 non-null int64\n",
      "total_income        19351 non-null float64\n",
      "purpose             21525 non-null object\n",
      "dtypes: float64(2), int64(5), object(5)\n",
      "memory usage: 2.0+ MB\n"
     ]
    }
   ],
   "source": [
    "data_credit_clients = pd.read_csv('/datasets/data.csv')\n",
    "data_credit_clients.shape\n",
    "data_credit_clients.info()"
   ]
  },
  {
   "cell_type": "markdown",
   "metadata": {},
   "source": [
    "21525 - записей. Часть записей отсутствуют в столбцах \"days_employed\" и \"total_income\". В этих столбцах 19351 запись, там же данные записаны с плавающей запятой.  \n",
    "   \n",
    "Описание данных: \n",
    "- children — количество детей в семье\n",
    "- days_employed — общий трудовой стаж в днях\n",
    "- dob_years — возраст клиента в годах\n",
    "- education — уровень образования клиента\n",
    "- education_id — идентификатор уровня образования\n",
    "- family_status — семейное положение\n",
    "- family_status_id — идентификатор семейного положения\n",
    "- gender — пол клиента\n",
    "- income_type — тип занятости\n",
    "- debt — имел ли задолженность по возврату кредитов\n",
    "- total_income — ежемесячный доход\n",
    "- purpose — цель получения кредита"
   ]
  },
  {
   "cell_type": "code",
   "execution_count": 3,
   "metadata": {},
   "outputs": [
    {
     "data": {
      "text/html": [
       "<div>\n",
       "<style scoped>\n",
       "    .dataframe tbody tr th:only-of-type {\n",
       "        vertical-align: middle;\n",
       "    }\n",
       "\n",
       "    .dataframe tbody tr th {\n",
       "        vertical-align: top;\n",
       "    }\n",
       "\n",
       "    .dataframe thead th {\n",
       "        text-align: right;\n",
       "    }\n",
       "</style>\n",
       "<table border=\"1\" class=\"dataframe\">\n",
       "  <thead>\n",
       "    <tr style=\"text-align: right;\">\n",
       "      <th></th>\n",
       "      <th>children</th>\n",
       "      <th>days_employed</th>\n",
       "      <th>dob_years</th>\n",
       "      <th>education</th>\n",
       "      <th>education_id</th>\n",
       "      <th>family_status</th>\n",
       "      <th>family_status_id</th>\n",
       "      <th>gender</th>\n",
       "      <th>income_type</th>\n",
       "      <th>debt</th>\n",
       "      <th>total_income</th>\n",
       "      <th>purpose</th>\n",
       "    </tr>\n",
       "  </thead>\n",
       "  <tbody>\n",
       "    <tr>\n",
       "      <td>0</td>\n",
       "      <td>1</td>\n",
       "      <td>-8437.673028</td>\n",
       "      <td>42</td>\n",
       "      <td>высшее</td>\n",
       "      <td>0</td>\n",
       "      <td>женат / замужем</td>\n",
       "      <td>0</td>\n",
       "      <td>F</td>\n",
       "      <td>сотрудник</td>\n",
       "      <td>0</td>\n",
       "      <td>253875.639453</td>\n",
       "      <td>покупка жилья</td>\n",
       "    </tr>\n",
       "    <tr>\n",
       "      <td>1</td>\n",
       "      <td>1</td>\n",
       "      <td>-4024.803754</td>\n",
       "      <td>36</td>\n",
       "      <td>среднее</td>\n",
       "      <td>1</td>\n",
       "      <td>женат / замужем</td>\n",
       "      <td>0</td>\n",
       "      <td>F</td>\n",
       "      <td>сотрудник</td>\n",
       "      <td>0</td>\n",
       "      <td>112080.014102</td>\n",
       "      <td>приобретение автомобиля</td>\n",
       "    </tr>\n",
       "    <tr>\n",
       "      <td>2</td>\n",
       "      <td>0</td>\n",
       "      <td>-5623.422610</td>\n",
       "      <td>33</td>\n",
       "      <td>Среднее</td>\n",
       "      <td>1</td>\n",
       "      <td>женат / замужем</td>\n",
       "      <td>0</td>\n",
       "      <td>M</td>\n",
       "      <td>сотрудник</td>\n",
       "      <td>0</td>\n",
       "      <td>145885.952297</td>\n",
       "      <td>покупка жилья</td>\n",
       "    </tr>\n",
       "    <tr>\n",
       "      <td>3</td>\n",
       "      <td>3</td>\n",
       "      <td>-4124.747207</td>\n",
       "      <td>32</td>\n",
       "      <td>среднее</td>\n",
       "      <td>1</td>\n",
       "      <td>женат / замужем</td>\n",
       "      <td>0</td>\n",
       "      <td>M</td>\n",
       "      <td>сотрудник</td>\n",
       "      <td>0</td>\n",
       "      <td>267628.550329</td>\n",
       "      <td>дополнительное образование</td>\n",
       "    </tr>\n",
       "    <tr>\n",
       "      <td>4</td>\n",
       "      <td>0</td>\n",
       "      <td>340266.072047</td>\n",
       "      <td>53</td>\n",
       "      <td>среднее</td>\n",
       "      <td>1</td>\n",
       "      <td>гражданский брак</td>\n",
       "      <td>1</td>\n",
       "      <td>F</td>\n",
       "      <td>пенсионер</td>\n",
       "      <td>0</td>\n",
       "      <td>158616.077870</td>\n",
       "      <td>сыграть свадьбу</td>\n",
       "    </tr>\n",
       "    <tr>\n",
       "      <td>5</td>\n",
       "      <td>0</td>\n",
       "      <td>-926.185831</td>\n",
       "      <td>27</td>\n",
       "      <td>высшее</td>\n",
       "      <td>0</td>\n",
       "      <td>гражданский брак</td>\n",
       "      <td>1</td>\n",
       "      <td>M</td>\n",
       "      <td>компаньон</td>\n",
       "      <td>0</td>\n",
       "      <td>255763.565419</td>\n",
       "      <td>покупка жилья</td>\n",
       "    </tr>\n",
       "    <tr>\n",
       "      <td>6</td>\n",
       "      <td>0</td>\n",
       "      <td>-2879.202052</td>\n",
       "      <td>43</td>\n",
       "      <td>высшее</td>\n",
       "      <td>0</td>\n",
       "      <td>женат / замужем</td>\n",
       "      <td>0</td>\n",
       "      <td>F</td>\n",
       "      <td>компаньон</td>\n",
       "      <td>0</td>\n",
       "      <td>240525.971920</td>\n",
       "      <td>операции с жильем</td>\n",
       "    </tr>\n",
       "    <tr>\n",
       "      <td>7</td>\n",
       "      <td>0</td>\n",
       "      <td>-152.779569</td>\n",
       "      <td>50</td>\n",
       "      <td>СРЕДНЕЕ</td>\n",
       "      <td>1</td>\n",
       "      <td>женат / замужем</td>\n",
       "      <td>0</td>\n",
       "      <td>M</td>\n",
       "      <td>сотрудник</td>\n",
       "      <td>0</td>\n",
       "      <td>135823.934197</td>\n",
       "      <td>образование</td>\n",
       "    </tr>\n",
       "    <tr>\n",
       "      <td>8</td>\n",
       "      <td>2</td>\n",
       "      <td>-6929.865299</td>\n",
       "      <td>35</td>\n",
       "      <td>ВЫСШЕЕ</td>\n",
       "      <td>0</td>\n",
       "      <td>гражданский брак</td>\n",
       "      <td>1</td>\n",
       "      <td>F</td>\n",
       "      <td>сотрудник</td>\n",
       "      <td>0</td>\n",
       "      <td>95856.832424</td>\n",
       "      <td>на проведение свадьбы</td>\n",
       "    </tr>\n",
       "    <tr>\n",
       "      <td>9</td>\n",
       "      <td>0</td>\n",
       "      <td>-2188.756445</td>\n",
       "      <td>41</td>\n",
       "      <td>среднее</td>\n",
       "      <td>1</td>\n",
       "      <td>женат / замужем</td>\n",
       "      <td>0</td>\n",
       "      <td>M</td>\n",
       "      <td>сотрудник</td>\n",
       "      <td>0</td>\n",
       "      <td>144425.938277</td>\n",
       "      <td>покупка жилья для семьи</td>\n",
       "    </tr>\n",
       "  </tbody>\n",
       "</table>\n",
       "</div>"
      ],
      "text/plain": [
       "   children  days_employed  dob_years education  education_id  \\\n",
       "0         1   -8437.673028         42    высшее             0   \n",
       "1         1   -4024.803754         36   среднее             1   \n",
       "2         0   -5623.422610         33   Среднее             1   \n",
       "3         3   -4124.747207         32   среднее             1   \n",
       "4         0  340266.072047         53   среднее             1   \n",
       "5         0    -926.185831         27    высшее             0   \n",
       "6         0   -2879.202052         43    высшее             0   \n",
       "7         0    -152.779569         50   СРЕДНЕЕ             1   \n",
       "8         2   -6929.865299         35    ВЫСШЕЕ             0   \n",
       "9         0   -2188.756445         41   среднее             1   \n",
       "\n",
       "      family_status  family_status_id gender income_type  debt   total_income  \\\n",
       "0   женат / замужем                 0      F   сотрудник     0  253875.639453   \n",
       "1   женат / замужем                 0      F   сотрудник     0  112080.014102   \n",
       "2   женат / замужем                 0      M   сотрудник     0  145885.952297   \n",
       "3   женат / замужем                 0      M   сотрудник     0  267628.550329   \n",
       "4  гражданский брак                 1      F   пенсионер     0  158616.077870   \n",
       "5  гражданский брак                 1      M   компаньон     0  255763.565419   \n",
       "6   женат / замужем                 0      F   компаньон     0  240525.971920   \n",
       "7   женат / замужем                 0      M   сотрудник     0  135823.934197   \n",
       "8  гражданский брак                 1      F   сотрудник     0   95856.832424   \n",
       "9   женат / замужем                 0      M   сотрудник     0  144425.938277   \n",
       "\n",
       "                      purpose  \n",
       "0               покупка жилья  \n",
       "1     приобретение автомобиля  \n",
       "2               покупка жилья  \n",
       "3  дополнительное образование  \n",
       "4             сыграть свадьбу  \n",
       "5               покупка жилья  \n",
       "6           операции с жильем  \n",
       "7                 образование  \n",
       "8       на проведение свадьбы  \n",
       "9     покупка жилья для семьи  "
      ]
     },
     "execution_count": 3,
     "metadata": {},
     "output_type": "execute_result"
    },
    {
     "data": {
      "text/html": [
       "<div>\n",
       "<style scoped>\n",
       "    .dataframe tbody tr th:only-of-type {\n",
       "        vertical-align: middle;\n",
       "    }\n",
       "\n",
       "    .dataframe tbody tr th {\n",
       "        vertical-align: top;\n",
       "    }\n",
       "\n",
       "    .dataframe thead th {\n",
       "        text-align: right;\n",
       "    }\n",
       "</style>\n",
       "<table border=\"1\" class=\"dataframe\">\n",
       "  <thead>\n",
       "    <tr style=\"text-align: right;\">\n",
       "      <th></th>\n",
       "      <th>children</th>\n",
       "      <th>days_employed</th>\n",
       "      <th>dob_years</th>\n",
       "      <th>education</th>\n",
       "      <th>education_id</th>\n",
       "      <th>family_status</th>\n",
       "      <th>family_status_id</th>\n",
       "      <th>gender</th>\n",
       "      <th>income_type</th>\n",
       "      <th>debt</th>\n",
       "      <th>total_income</th>\n",
       "      <th>purpose</th>\n",
       "    </tr>\n",
       "  </thead>\n",
       "  <tbody>\n",
       "    <tr>\n",
       "      <td>21515</td>\n",
       "      <td>1</td>\n",
       "      <td>-467.685130</td>\n",
       "      <td>28</td>\n",
       "      <td>среднее</td>\n",
       "      <td>1</td>\n",
       "      <td>женат / замужем</td>\n",
       "      <td>0</td>\n",
       "      <td>F</td>\n",
       "      <td>сотрудник</td>\n",
       "      <td>1</td>\n",
       "      <td>109486.327999</td>\n",
       "      <td>заняться образованием</td>\n",
       "    </tr>\n",
       "    <tr>\n",
       "      <td>21516</td>\n",
       "      <td>0</td>\n",
       "      <td>-914.391429</td>\n",
       "      <td>42</td>\n",
       "      <td>высшее</td>\n",
       "      <td>0</td>\n",
       "      <td>женат / замужем</td>\n",
       "      <td>0</td>\n",
       "      <td>F</td>\n",
       "      <td>компаньон</td>\n",
       "      <td>0</td>\n",
       "      <td>322807.776603</td>\n",
       "      <td>покупка своего жилья</td>\n",
       "    </tr>\n",
       "    <tr>\n",
       "      <td>21517</td>\n",
       "      <td>0</td>\n",
       "      <td>-404.679034</td>\n",
       "      <td>42</td>\n",
       "      <td>высшее</td>\n",
       "      <td>0</td>\n",
       "      <td>гражданский брак</td>\n",
       "      <td>1</td>\n",
       "      <td>F</td>\n",
       "      <td>компаньон</td>\n",
       "      <td>0</td>\n",
       "      <td>178059.553491</td>\n",
       "      <td>на покупку своего автомобиля</td>\n",
       "    </tr>\n",
       "    <tr>\n",
       "      <td>21518</td>\n",
       "      <td>0</td>\n",
       "      <td>373995.710838</td>\n",
       "      <td>59</td>\n",
       "      <td>СРЕДНЕЕ</td>\n",
       "      <td>1</td>\n",
       "      <td>женат / замужем</td>\n",
       "      <td>0</td>\n",
       "      <td>F</td>\n",
       "      <td>пенсионер</td>\n",
       "      <td>0</td>\n",
       "      <td>153864.650328</td>\n",
       "      <td>сделка с автомобилем</td>\n",
       "    </tr>\n",
       "    <tr>\n",
       "      <td>21519</td>\n",
       "      <td>1</td>\n",
       "      <td>-2351.431934</td>\n",
       "      <td>37</td>\n",
       "      <td>ученая степень</td>\n",
       "      <td>4</td>\n",
       "      <td>в разводе</td>\n",
       "      <td>3</td>\n",
       "      <td>M</td>\n",
       "      <td>сотрудник</td>\n",
       "      <td>0</td>\n",
       "      <td>115949.039788</td>\n",
       "      <td>покупка коммерческой недвижимости</td>\n",
       "    </tr>\n",
       "    <tr>\n",
       "      <td>21520</td>\n",
       "      <td>1</td>\n",
       "      <td>-4529.316663</td>\n",
       "      <td>43</td>\n",
       "      <td>среднее</td>\n",
       "      <td>1</td>\n",
       "      <td>гражданский брак</td>\n",
       "      <td>1</td>\n",
       "      <td>F</td>\n",
       "      <td>компаньон</td>\n",
       "      <td>0</td>\n",
       "      <td>224791.862382</td>\n",
       "      <td>операции с жильем</td>\n",
       "    </tr>\n",
       "    <tr>\n",
       "      <td>21521</td>\n",
       "      <td>0</td>\n",
       "      <td>343937.404131</td>\n",
       "      <td>67</td>\n",
       "      <td>среднее</td>\n",
       "      <td>1</td>\n",
       "      <td>женат / замужем</td>\n",
       "      <td>0</td>\n",
       "      <td>F</td>\n",
       "      <td>пенсионер</td>\n",
       "      <td>0</td>\n",
       "      <td>155999.806512</td>\n",
       "      <td>сделка с автомобилем</td>\n",
       "    </tr>\n",
       "    <tr>\n",
       "      <td>21522</td>\n",
       "      <td>1</td>\n",
       "      <td>-2113.346888</td>\n",
       "      <td>38</td>\n",
       "      <td>среднее</td>\n",
       "      <td>1</td>\n",
       "      <td>гражданский брак</td>\n",
       "      <td>1</td>\n",
       "      <td>M</td>\n",
       "      <td>сотрудник</td>\n",
       "      <td>1</td>\n",
       "      <td>89672.561153</td>\n",
       "      <td>недвижимость</td>\n",
       "    </tr>\n",
       "    <tr>\n",
       "      <td>21523</td>\n",
       "      <td>3</td>\n",
       "      <td>-3112.481705</td>\n",
       "      <td>38</td>\n",
       "      <td>среднее</td>\n",
       "      <td>1</td>\n",
       "      <td>женат / замужем</td>\n",
       "      <td>0</td>\n",
       "      <td>M</td>\n",
       "      <td>сотрудник</td>\n",
       "      <td>1</td>\n",
       "      <td>244093.050500</td>\n",
       "      <td>на покупку своего автомобиля</td>\n",
       "    </tr>\n",
       "    <tr>\n",
       "      <td>21524</td>\n",
       "      <td>2</td>\n",
       "      <td>-1984.507589</td>\n",
       "      <td>40</td>\n",
       "      <td>среднее</td>\n",
       "      <td>1</td>\n",
       "      <td>женат / замужем</td>\n",
       "      <td>0</td>\n",
       "      <td>F</td>\n",
       "      <td>сотрудник</td>\n",
       "      <td>0</td>\n",
       "      <td>82047.418899</td>\n",
       "      <td>на покупку автомобиля</td>\n",
       "    </tr>\n",
       "  </tbody>\n",
       "</table>\n",
       "</div>"
      ],
      "text/plain": [
       "       children  days_employed  dob_years       education  education_id  \\\n",
       "21515         1    -467.685130         28         среднее             1   \n",
       "21516         0    -914.391429         42          высшее             0   \n",
       "21517         0    -404.679034         42          высшее             0   \n",
       "21518         0  373995.710838         59         СРЕДНЕЕ             1   \n",
       "21519         1   -2351.431934         37  ученая степень             4   \n",
       "21520         1   -4529.316663         43         среднее             1   \n",
       "21521         0  343937.404131         67         среднее             1   \n",
       "21522         1   -2113.346888         38         среднее             1   \n",
       "21523         3   -3112.481705         38         среднее             1   \n",
       "21524         2   -1984.507589         40         среднее             1   \n",
       "\n",
       "          family_status  family_status_id gender income_type  debt  \\\n",
       "21515   женат / замужем                 0      F   сотрудник     1   \n",
       "21516   женат / замужем                 0      F   компаньон     0   \n",
       "21517  гражданский брак                 1      F   компаньон     0   \n",
       "21518   женат / замужем                 0      F   пенсионер     0   \n",
       "21519         в разводе                 3      M   сотрудник     0   \n",
       "21520  гражданский брак                 1      F   компаньон     0   \n",
       "21521   женат / замужем                 0      F   пенсионер     0   \n",
       "21522  гражданский брак                 1      M   сотрудник     1   \n",
       "21523   женат / замужем                 0      M   сотрудник     1   \n",
       "21524   женат / замужем                 0      F   сотрудник     0   \n",
       "\n",
       "        total_income                            purpose  \n",
       "21515  109486.327999              заняться образованием  \n",
       "21516  322807.776603               покупка своего жилья  \n",
       "21517  178059.553491       на покупку своего автомобиля  \n",
       "21518  153864.650328               сделка с автомобилем  \n",
       "21519  115949.039788  покупка коммерческой недвижимости  \n",
       "21520  224791.862382                  операции с жильем  \n",
       "21521  155999.806512               сделка с автомобилем  \n",
       "21522   89672.561153                       недвижимость  \n",
       "21523  244093.050500       на покупку своего автомобиля  \n",
       "21524   82047.418899              на покупку автомобиля  "
      ]
     },
     "execution_count": 3,
     "metadata": {},
     "output_type": "execute_result"
    }
   ],
   "source": [
    "data_credit_clients.head(10)\n",
    "data_credit_clients.tail(10)"
   ]
  },
  {
   "cell_type": "markdown",
   "metadata": {},
   "source": [
    "### Вывод"
   ]
  },
  {
   "cell_type": "markdown",
   "metadata": {},
   "source": [
    "##### Общие данные   \n",
    "21525 - записей, из них не нулевых (в двух столбцах) - 19351.    \n",
    "Данные с плавающей запятой можно привести к целочисленным - для задания такой точности будет достаточно.  \n",
    "\n",
    "##### Трудовой стаж   \n",
    "В днях почему отицательный? Вероятно можно переделать по модулю всю таблицу - ошибка явно системная, слишком много отрицаельных значений. Количество отработанных дней в основном соответвуют возможному рабочему стажу за исключением нескольких позиций где количество отработанных дней близко к 100 годам. Потребуется проверить количество таких записей и степень их влияния на результат работы. Дни можно перевести в целочисленный формат, без дробей.\n",
    "\n",
    "##### Образование\n",
    "Все записи привести в единый формат - с маленькой буквы. Выяснить сколько вариантов ответов и какие id в образовании?\n",
    "\n",
    "##### Семейное положение\n",
    "Проверить сколько вариантов семейного положения, исключить ошибки.\n",
    "\n",
    "##### Пол \n",
    "Проверить сколько вариантов, исключить ошибки.\n",
    "\n",
    "##### Тип занятости\n",
    "Проверить с кем имеем дело - варианты типа занятости.\n",
    "    \n",
    "##### Ежемесячный доход\n",
    "Для банка важно состояние до копейки, но в данном случае точность до копейки не нужна, а вид данных будет лучше с визуальной точки зрения если привести данные по доходу в целочисленный формат без дробей.\n",
    "    \n",
    "##### Цель получения кредита\n",
    "Проверить уникальность запросов, видимо многое можно упростить до \"автомобиля\", \"недвижимость(жилье)\", \"образование\" и другие причины. Пропадет правда разница между коммерческой недвиж. и личной. Конечная задача это позволяет.\n",
    "    \n",
    "##### \"Пропуски\" - \n",
    "- Столбец \"трудовой стаж\" - не работал? и столбец \"ежемесячный доход\" - не зарабатывал? если это один и тот же человек,\n",
    "    то как ему дали кредит? - скорее всего это системная ошибка ввода данных по заемщикам. Не верится что кредиты выдавали \n",
    "    без информации о среднемесячном доходе, но и стаж нулевой для разных категорий занятости. Если бы только пенсионеры - \n",
    "    тогда со стажем понятно - он конечно есть, но не важен особо. Напрашивается еще одно объяснение: \n",
    "    - кредиты выдавались под залог недвижимости, и может быть в политике банка в этом случае информация по стажу и доходу не учитывается. Это вопросы тогда к менеджменту.  \n",
    "  Трудовой стаж можно оставить - ноль.\n",
    "- Ежемесячный доход заполнить данными медиан по каждой из категорий занятости. Считаем что заемщики определенной категории\n",
    "    занятости имеют примерно сходный ежемесячный доход. Метод поиска медианного значения более справедливый - позволит \n",
    "    исключить влияние очень больших и малых величин.\n",
    "    \n",
    "##### Дубликаты \n",
    "Требуют внимательного рассмотрения - в таблице нет однозначного индентификатора заемщика. Совокупность одинковых нескольких данных может давать ложную картину дубликатов где данные построчно не будут являться полными дубликатами."
   ]
  },
  {
   "cell_type": "markdown",
   "metadata": {},
   "source": [
    "### Шаг 2. Предобработка данных"
   ]
  },
  {
   "cell_type": "markdown",
   "metadata": {},
   "source": [
    "### Обработка пропусков"
   ]
  },
  {
   "cell_type": "markdown",
   "metadata": {},
   "source": [
    "Определим наличие NaN значений в таблице, есть ли сооответствие поиндексно в двух столбцах - Стаж и Доход"
   ]
  },
  {
   "cell_type": "code",
   "execution_count": 4,
   "metadata": {
    "scrolled": true
   },
   "outputs": [
    {
     "data": {
      "text/html": [
       "<div>\n",
       "<style scoped>\n",
       "    .dataframe tbody tr th:only-of-type {\n",
       "        vertical-align: middle;\n",
       "    }\n",
       "\n",
       "    .dataframe tbody tr th {\n",
       "        vertical-align: top;\n",
       "    }\n",
       "\n",
       "    .dataframe thead th {\n",
       "        text-align: right;\n",
       "    }\n",
       "</style>\n",
       "<table border=\"1\" class=\"dataframe\">\n",
       "  <thead>\n",
       "    <tr style=\"text-align: right;\">\n",
       "      <th></th>\n",
       "      <th>children</th>\n",
       "      <th>days_employed</th>\n",
       "      <th>dob_years</th>\n",
       "      <th>education</th>\n",
       "      <th>education_id</th>\n",
       "      <th>family_status</th>\n",
       "      <th>family_status_id</th>\n",
       "      <th>gender</th>\n",
       "      <th>income_type</th>\n",
       "      <th>debt</th>\n",
       "      <th>total_income</th>\n",
       "      <th>purpose</th>\n",
       "    </tr>\n",
       "  </thead>\n",
       "  <tbody>\n",
       "    <tr>\n",
       "      <td>21489</td>\n",
       "      <td>2</td>\n",
       "      <td>NaN</td>\n",
       "      <td>47</td>\n",
       "      <td>Среднее</td>\n",
       "      <td>1</td>\n",
       "      <td>женат / замужем</td>\n",
       "      <td>0</td>\n",
       "      <td>M</td>\n",
       "      <td>компаньон</td>\n",
       "      <td>0</td>\n",
       "      <td>NaN</td>\n",
       "      <td>сделка с автомобилем</td>\n",
       "    </tr>\n",
       "    <tr>\n",
       "      <td>21495</td>\n",
       "      <td>1</td>\n",
       "      <td>NaN</td>\n",
       "      <td>50</td>\n",
       "      <td>среднее</td>\n",
       "      <td>1</td>\n",
       "      <td>гражданский брак</td>\n",
       "      <td>1</td>\n",
       "      <td>F</td>\n",
       "      <td>сотрудник</td>\n",
       "      <td>0</td>\n",
       "      <td>NaN</td>\n",
       "      <td>свадьба</td>\n",
       "    </tr>\n",
       "    <tr>\n",
       "      <td>21497</td>\n",
       "      <td>0</td>\n",
       "      <td>NaN</td>\n",
       "      <td>48</td>\n",
       "      <td>ВЫСШЕЕ</td>\n",
       "      <td>0</td>\n",
       "      <td>женат / замужем</td>\n",
       "      <td>0</td>\n",
       "      <td>F</td>\n",
       "      <td>компаньон</td>\n",
       "      <td>0</td>\n",
       "      <td>NaN</td>\n",
       "      <td>строительство недвижимости</td>\n",
       "    </tr>\n",
       "    <tr>\n",
       "      <td>21502</td>\n",
       "      <td>1</td>\n",
       "      <td>NaN</td>\n",
       "      <td>42</td>\n",
       "      <td>среднее</td>\n",
       "      <td>1</td>\n",
       "      <td>женат / замужем</td>\n",
       "      <td>0</td>\n",
       "      <td>F</td>\n",
       "      <td>сотрудник</td>\n",
       "      <td>0</td>\n",
       "      <td>NaN</td>\n",
       "      <td>строительство жилой недвижимости</td>\n",
       "    </tr>\n",
       "    <tr>\n",
       "      <td>21510</td>\n",
       "      <td>2</td>\n",
       "      <td>NaN</td>\n",
       "      <td>28</td>\n",
       "      <td>среднее</td>\n",
       "      <td>1</td>\n",
       "      <td>женат / замужем</td>\n",
       "      <td>0</td>\n",
       "      <td>F</td>\n",
       "      <td>сотрудник</td>\n",
       "      <td>0</td>\n",
       "      <td>NaN</td>\n",
       "      <td>приобретение автомобиля</td>\n",
       "    </tr>\n",
       "  </tbody>\n",
       "</table>\n",
       "</div>"
      ],
      "text/plain": [
       "       children  days_employed  dob_years education  education_id  \\\n",
       "21489         2            NaN         47   Среднее             1   \n",
       "21495         1            NaN         50   среднее             1   \n",
       "21497         0            NaN         48    ВЫСШЕЕ             0   \n",
       "21502         1            NaN         42   среднее             1   \n",
       "21510         2            NaN         28   среднее             1   \n",
       "\n",
       "          family_status  family_status_id gender income_type  debt  \\\n",
       "21489   женат / замужем                 0      M   компаньон     0   \n",
       "21495  гражданский брак                 1      F   сотрудник     0   \n",
       "21497   женат / замужем                 0      F   компаньон     0   \n",
       "21502   женат / замужем                 0      F   сотрудник     0   \n",
       "21510   женат / замужем                 0      F   сотрудник     0   \n",
       "\n",
       "       total_income                           purpose  \n",
       "21489           NaN              сделка с автомобилем  \n",
       "21495           NaN                           свадьба  \n",
       "21497           NaN        строительство недвижимости  \n",
       "21502           NaN  строительство жилой недвижимости  \n",
       "21510           NaN           приобретение автомобиля  "
      ]
     },
     "execution_count": 4,
     "metadata": {},
     "output_type": "execute_result"
    },
    {
     "data": {
      "text/html": [
       "<div>\n",
       "<style scoped>\n",
       "    .dataframe tbody tr th:only-of-type {\n",
       "        vertical-align: middle;\n",
       "    }\n",
       "\n",
       "    .dataframe tbody tr th {\n",
       "        vertical-align: top;\n",
       "    }\n",
       "\n",
       "    .dataframe thead th {\n",
       "        text-align: right;\n",
       "    }\n",
       "</style>\n",
       "<table border=\"1\" class=\"dataframe\">\n",
       "  <thead>\n",
       "    <tr style=\"text-align: right;\">\n",
       "      <th></th>\n",
       "      <th>children</th>\n",
       "      <th>days_employed</th>\n",
       "      <th>dob_years</th>\n",
       "      <th>education</th>\n",
       "      <th>education_id</th>\n",
       "      <th>family_status</th>\n",
       "      <th>family_status_id</th>\n",
       "      <th>gender</th>\n",
       "      <th>income_type</th>\n",
       "      <th>debt</th>\n",
       "      <th>total_income</th>\n",
       "      <th>purpose</th>\n",
       "    </tr>\n",
       "  </thead>\n",
       "  <tbody>\n",
       "    <tr>\n",
       "      <td>12</td>\n",
       "      <td>0</td>\n",
       "      <td>NaN</td>\n",
       "      <td>65</td>\n",
       "      <td>среднее</td>\n",
       "      <td>1</td>\n",
       "      <td>гражданский брак</td>\n",
       "      <td>1</td>\n",
       "      <td>M</td>\n",
       "      <td>пенсионер</td>\n",
       "      <td>0</td>\n",
       "      <td>NaN</td>\n",
       "      <td>сыграть свадьбу</td>\n",
       "    </tr>\n",
       "    <tr>\n",
       "      <td>26</td>\n",
       "      <td>0</td>\n",
       "      <td>NaN</td>\n",
       "      <td>41</td>\n",
       "      <td>среднее</td>\n",
       "      <td>1</td>\n",
       "      <td>женат / замужем</td>\n",
       "      <td>0</td>\n",
       "      <td>M</td>\n",
       "      <td>госслужащий</td>\n",
       "      <td>0</td>\n",
       "      <td>NaN</td>\n",
       "      <td>образование</td>\n",
       "    </tr>\n",
       "    <tr>\n",
       "      <td>29</td>\n",
       "      <td>0</td>\n",
       "      <td>NaN</td>\n",
       "      <td>63</td>\n",
       "      <td>среднее</td>\n",
       "      <td>1</td>\n",
       "      <td>Не женат / не замужем</td>\n",
       "      <td>4</td>\n",
       "      <td>F</td>\n",
       "      <td>пенсионер</td>\n",
       "      <td>0</td>\n",
       "      <td>NaN</td>\n",
       "      <td>строительство жилой недвижимости</td>\n",
       "    </tr>\n",
       "    <tr>\n",
       "      <td>41</td>\n",
       "      <td>0</td>\n",
       "      <td>NaN</td>\n",
       "      <td>50</td>\n",
       "      <td>среднее</td>\n",
       "      <td>1</td>\n",
       "      <td>женат / замужем</td>\n",
       "      <td>0</td>\n",
       "      <td>F</td>\n",
       "      <td>госслужащий</td>\n",
       "      <td>0</td>\n",
       "      <td>NaN</td>\n",
       "      <td>сделка с подержанным автомобилем</td>\n",
       "    </tr>\n",
       "    <tr>\n",
       "      <td>55</td>\n",
       "      <td>0</td>\n",
       "      <td>NaN</td>\n",
       "      <td>54</td>\n",
       "      <td>среднее</td>\n",
       "      <td>1</td>\n",
       "      <td>гражданский брак</td>\n",
       "      <td>1</td>\n",
       "      <td>F</td>\n",
       "      <td>пенсионер</td>\n",
       "      <td>1</td>\n",
       "      <td>NaN</td>\n",
       "      <td>сыграть свадьбу</td>\n",
       "    </tr>\n",
       "  </tbody>\n",
       "</table>\n",
       "</div>"
      ],
      "text/plain": [
       "    children  days_employed  dob_years education  education_id  \\\n",
       "12         0            NaN         65   среднее             1   \n",
       "26         0            NaN         41   среднее             1   \n",
       "29         0            NaN         63   среднее             1   \n",
       "41         0            NaN         50   среднее             1   \n",
       "55         0            NaN         54   среднее             1   \n",
       "\n",
       "            family_status  family_status_id gender  income_type  debt  \\\n",
       "12       гражданский брак                 1      M    пенсионер     0   \n",
       "26        женат / замужем                 0      M  госслужащий     0   \n",
       "29  Не женат / не замужем                 4      F    пенсионер     0   \n",
       "41        женат / замужем                 0      F  госслужащий     0   \n",
       "55       гражданский брак                 1      F    пенсионер     1   \n",
       "\n",
       "    total_income                           purpose  \n",
       "12           NaN                   сыграть свадьбу  \n",
       "26           NaN                       образование  \n",
       "29           NaN  строительство жилой недвижимости  \n",
       "41           NaN  сделка с подержанным автомобилем  \n",
       "55           NaN                   сыграть свадьбу  "
      ]
     },
     "execution_count": 4,
     "metadata": {},
     "output_type": "execute_result"
    },
    {
     "data": {
      "text/plain": [
       "children            2174\n",
       "days_employed          0\n",
       "dob_years           2174\n",
       "education           2174\n",
       "education_id        2174\n",
       "family_status       2174\n",
       "family_status_id    2174\n",
       "gender              2174\n",
       "income_type         2174\n",
       "debt                2174\n",
       "total_income           0\n",
       "purpose             2174\n",
       "dtype: int64"
      ]
     },
     "execution_count": 4,
     "metadata": {},
     "output_type": "execute_result"
    }
   ],
   "source": [
    "data_credit_clients[data_credit_clients['days_employed'].isnull()].tail()\n",
    "data_credit_clients[data_credit_clients['days_employed'].isnull()].head()\n",
    "data_credit_clients[data_credit_clients['days_employed'].isnull()].count()"
   ]
  },
  {
   "cell_type": "markdown",
   "metadata": {},
   "source": [
    "Пропуски в данных по стажу и ежемесячном доходе - заменяем NaN на ноль. "
   ]
  },
  {
   "cell_type": "code",
   "execution_count": 5,
   "metadata": {},
   "outputs": [
    {
     "name": "stdout",
     "output_type": "stream",
     "text": [
      "<class 'pandas.core.frame.DataFrame'>\n",
      "RangeIndex: 21525 entries, 0 to 21524\n",
      "Data columns (total 12 columns):\n",
      "children            21525 non-null int64\n",
      "days_employed       21525 non-null float64\n",
      "dob_years           21525 non-null int64\n",
      "education           21525 non-null object\n",
      "education_id        21525 non-null int64\n",
      "family_status       21525 non-null object\n",
      "family_status_id    21525 non-null int64\n",
      "gender              21525 non-null object\n",
      "income_type         21525 non-null object\n",
      "debt                21525 non-null int64\n",
      "total_income        21525 non-null float64\n",
      "purpose             21525 non-null object\n",
      "dtypes: float64(2), int64(5), object(5)\n",
      "memory usage: 2.0+ MB\n"
     ]
    }
   ],
   "source": [
    "data_credit_clients = data_credit_clients.fillna(0)\n",
    "data_credit_clients.info()"
   ]
  },
  {
   "cell_type": "markdown",
   "metadata": {},
   "source": [
    "Проверим совпадают ли построчно нулевые данные в колонке \"Стаж\" и \"Ежемесячный доход\""
   ]
  },
  {
   "cell_type": "code",
   "execution_count": 6,
   "metadata": {
    "scrolled": true
   },
   "outputs": [
    {
     "name": "stdout",
     "output_type": "stream",
     "text": [
      "Индексы cовпадают построчно\n"
     ]
    }
   ],
   "source": [
    "index_NaN_days_employed = data_credit_clients.index[data_credit_clients['days_employed'] == 0].tolist()\n",
    "index_NaN_total_income = data_credit_clients.index[data_credit_clients['total_income'] == 0].tolist()\n",
    "if (index_NaN_days_employed == index_NaN_total_income):\n",
    "    print('Индексы cовпадают построчно')\n",
    "else:\n",
    "    print('Индексы не совпадают')"
   ]
  },
  {
   "cell_type": "markdown",
   "metadata": {},
   "source": [
    "Соответсвенно пропуски в обоих столбцах относятся к одним и тем же записям"
   ]
  },
  {
   "cell_type": "code",
   "execution_count": 7,
   "metadata": {},
   "outputs": [
    {
     "name": "stdout",
     "output_type": "stream",
     "text": [
      "Значения столбец \"income_type\": \n"
     ]
    },
    {
     "data": {
      "text/plain": [
       "array(['сотрудник', 'пенсионер', 'компаньон', 'госслужащий',\n",
       "       'безработный', 'предприниматель', 'студент', 'в декрете'],\n",
       "      dtype=object)"
      ]
     },
     "execution_count": 7,
     "metadata": {},
     "output_type": "execute_result"
    }
   ],
   "source": [
    "print('Значения столбец \"income_type\": ')\n",
    "data_credit_clients['income_type'].unique()"
   ]
  },
  {
   "cell_type": "markdown",
   "metadata": {},
   "source": [
    "Определим по каким позициям по типу занятости требуется замена нулевых значений"
   ]
  },
  {
   "cell_type": "code",
   "execution_count": 8,
   "metadata": {},
   "outputs": [
    {
     "data": {
      "text/plain": [
       "income_type\n",
       "госслужащий            0.000000\n",
       "компаньон              0.000000\n",
       "пенсионер              0.000000\n",
       "предприниматель        0.000000\n",
       "сотрудник              0.000000\n",
       "в декрете          53829.130729\n",
       "безработный        59956.991984\n",
       "студент            98201.625314\n",
       "Name: total_income, dtype: float64"
      ]
     },
     "execution_count": 8,
     "metadata": {},
     "output_type": "execute_result"
    },
    {
     "data": {
      "text/plain": [
       "53829.13072905995"
      ]
     },
     "execution_count": 8,
     "metadata": {},
     "output_type": "execute_result"
    }
   ],
   "source": [
    "min_table = data_credit_clients.groupby('income_type')['total_income'].min().sort_values()\n",
    "min_table\n",
    "min_table['в декрете'] #Проверка таблицы."
   ]
  },
  {
   "cell_type": "markdown",
   "metadata": {},
   "source": [
    "Найдем значение медианы ежемесячного дохода для каждого типа занятости для замены нулевых значений дохода. Для коректного расчета медианы нужно исключить из расчета нулевые значения."
   ]
  },
  {
   "cell_type": "code",
   "execution_count": 9,
   "metadata": {
    "scrolled": true
   },
   "outputs": [
    {
     "name": "stdout",
     "output_type": "stream",
     "text": [
      "<class 'pandas.core.frame.DataFrame'>\n",
      "RangeIndex: 21525 entries, 0 to 21524\n",
      "Data columns (total 12 columns):\n",
      "children            21525 non-null int64\n",
      "days_employed       21525 non-null float64\n",
      "dob_years           21525 non-null int64\n",
      "education           21525 non-null object\n",
      "education_id        21525 non-null int64\n",
      "family_status       21525 non-null object\n",
      "family_status_id    21525 non-null int64\n",
      "gender              21525 non-null object\n",
      "income_type         21525 non-null object\n",
      "debt                21525 non-null int64\n",
      "total_income        19351 non-null float64\n",
      "purpose             21525 non-null object\n",
      "dtypes: float64(2), int64(5), object(5)\n",
      "memory usage: 2.0+ MB\n"
     ]
    },
    {
     "data": {
      "text/plain": [
       "income_type\n",
       "безработный        131339\n",
       "в декрете           53829\n",
       "госслужащий        150447\n",
       "компаньон          172357\n",
       "пенсионер          118514\n",
       "предприниматель    499163\n",
       "сотрудник          142594\n",
       "студент             98201\n",
       "Name: total_income, dtype: int64"
      ]
     },
     "execution_count": 9,
     "metadata": {},
     "output_type": "execute_result"
    },
    {
     "name": "stdout",
     "output_type": "stream",
     "text": [
      "131339\n"
     ]
    }
   ],
   "source": [
    "#возвращаем нулевые значениям столбца 'total_income' значение 'Nan'\n",
    "data_credit_clients['total_income'] = data_credit_clients['total_income'].replace(0.00, np.nan)\n",
    "data_credit_clients.info() #Проверка\n",
    "median_data_ap_by_income_type = data_credit_clients.groupby('income_type')['total_income'].median().astype('int')\n",
    "median_data_ap_by_income_type\n",
    "print(median_data_ap_by_income_type['безработный']) # Проверка"
   ]
  },
  {
   "cell_type": "markdown",
   "metadata": {},
   "source": [
    "Проведем замену всех нулевых значений в столбце ежемесячный доход на медианные значения в соотвествии с типом занятости\n",
    "Операцию можно провести только по пяти значениям: госслужащий, компаньон, пенсионер, предприниматель, сотрудник   "
   ]
  },
  {
   "cell_type": "code",
   "execution_count": 10,
   "metadata": {},
   "outputs": [
    {
     "name": "stdout",
     "output_type": "stream",
     "text": [
      "<class 'pandas.core.frame.DataFrame'>\n",
      "RangeIndex: 21525 entries, 0 to 21524\n",
      "Data columns (total 12 columns):\n",
      "children            21525 non-null int64\n",
      "days_employed       21525 non-null float64\n",
      "dob_years           21525 non-null int64\n",
      "education           21525 non-null object\n",
      "education_id        21525 non-null int64\n",
      "family_status       21525 non-null object\n",
      "family_status_id    21525 non-null int64\n",
      "gender              21525 non-null object\n",
      "income_type         21525 non-null object\n",
      "debt                21525 non-null int64\n",
      "total_income        21525 non-null float64\n",
      "purpose             21525 non-null object\n",
      "dtypes: float64(2), int64(5), object(5)\n",
      "memory usage: 2.0+ MB\n"
     ]
    }
   ],
   "source": [
    "#Создаем функцию, которая принимает датасет и тип_занятости, после чего заменяет пустые значения на медианные\n",
    "def fill_by_median(data, job_type):\n",
    "    data.loc[data['income_type'] == job_type,'total_income'] = data.loc[data['income_type'] == job_type,'total_income'].fillna(median_data_ap_by_income_type[job_type])    \n",
    "# Применяем функцию\n",
    "fill_by_median(data_credit_clients, 'сотрудник')\n",
    "fill_by_median(data_credit_clients, 'компаньон')\n",
    "fill_by_median(data_credit_clients, 'пенсионер')\n",
    "fill_by_median(data_credit_clients, 'госслужащий')\n",
    "fill_by_median(data_credit_clients, 'предприниматель')\n",
    "data_credit_clients.info() #Проверка"
   ]
  },
  {
   "cell_type": "markdown",
   "metadata": {},
   "source": [
    "Проверим по дубликатам, они были связаны с нулевыми значениями по доходам."
   ]
  },
  {
   "cell_type": "code",
   "execution_count": 11,
   "metadata": {
    "scrolled": true
   },
   "outputs": [
    {
     "name": "stdout",
     "output_type": "stream",
     "text": [
      "       children  days_employed  dob_years education  education_id  \\\n",
      "19321         0            0.0         23   среднее             1   \n",
      "17379         0            0.0         54    высшее             0   \n",
      "2849          0            0.0         41   среднее             1   \n",
      "12736         0            0.0         59   среднее             1   \n",
      "9528          0            0.0         66   среднее             1   \n",
      "\n",
      "               family_status  family_status_id gender income_type  debt  \\\n",
      "19321  Не женат / не замужем                 4      F   сотрудник     0   \n",
      "17379        женат / замужем                 0      M   компаньон     0   \n",
      "2849         женат / замужем                 0      F   сотрудник     0   \n",
      "12736        женат / замужем                 0      F   пенсионер     0   \n",
      "9528          вдовец / вдова                 2      F   пенсионер     0   \n",
      "\n",
      "       total_income                                purpose  \n",
      "19321      142594.0       сделка с подержанным автомобилем  \n",
      "17379      172357.0  операции с коммерческой недвижимостью  \n",
      "2849       142594.0                покупка жилья для семьи  \n",
      "12736      118514.0                  заняться образованием  \n",
      "9528       118514.0        операции со своей недвижимостью  \n"
     ]
    }
   ],
   "source": [
    "print(data_credit_clients[data_credit_clients.duplicated() == True].sample(5)) "
   ]
  },
  {
   "cell_type": "markdown",
   "metadata": {},
   "source": [
    "### Вывод"
   ]
  },
  {
   "cell_type": "markdown",
   "metadata": {},
   "source": [
    "Так как данные в полях трудового стажа и ежемесячного дохода отстутствуют в одних и тех же строках, то причины скорее всего такие:\n",
    "    - пользователь не вводил их (намеренно или случайно) \n",
    "    - это ошибка ввода данных оператора или технический сбой (самое простое объяснение).\n",
    "    - кредит выдавался под залог недвижимости, эти данные не требовались (выянить у менеджмента)\n",
    "    \n",
    "В данном условии нулевое значение \"Стажа\" не окажет влияния на выводы.    \n",
    "В столбце \"Ежемесячный доход\" нулевые данные заменены на медиану по данным о доходах для каждого типа занятости."
   ]
  },
  {
   "cell_type": "markdown",
   "metadata": {},
   "source": [
    "### Замена типа данных"
   ]
  },
  {
   "cell_type": "markdown",
   "metadata": {},
   "source": [
    "#### Выясним уникальный состав таблицы по колонкам"
   ]
  },
  {
   "cell_type": "code",
   "execution_count": 12,
   "metadata": {},
   "outputs": [
    {
     "name": "stdout",
     "output_type": "stream",
     "text": [
      "Дети: [ 1  0  3  2 -1  4 20  5]\n",
      "\n",
      "Возраст: [42 36 33 32 53 27 43 50 35 41 40 65 54 56 26 48 24 21 57 67 28 63 62 47\n",
      " 34 68 25 31 30 20 49 37 45 61 64 44 52 46 23 38 39 51  0 59 29 60 55 58\n",
      " 71 22 73 66 69 19 72 70 74 75]\n",
      "\n",
      "Образование: ['высшее' 'среднее' 'Среднее' 'СРЕДНЕЕ' 'ВЫСШЕЕ' 'неоконченное высшее'\n",
      " 'начальное' 'Высшее' 'НЕОКОНЧЕННОЕ ВЫСШЕЕ' 'Неоконченное высшее'\n",
      " 'НАЧАЛЬНОЕ' 'Начальное' 'Ученая степень' 'УЧЕНАЯ СТЕПЕНЬ'\n",
      " 'ученая степень']\n",
      "\n",
      "Индексы образования: [0 1 2 3 4]\n",
      "\n",
      "Семейное положение: ['женат / замужем' 'гражданский брак' 'вдовец / вдова' 'в разводе'\n",
      " 'Не женат / не замужем']\n",
      "\n",
      "Индексы семейного положения: [0 1 2 3 4]\n",
      "\n",
      "Пол: ['F' 'M' 'XNA']\n",
      "\n",
      "Вид занятости: ['сотрудник' 'пенсионер' 'компаньон' 'госслужащий' 'безработный'\n",
      " 'предприниматель' 'студент' 'в декрете']\n",
      "\n",
      "Дебеторская задолженность [0 1]\n"
     ]
    }
   ],
   "source": [
    "print('Дети:', data_credit_clients['children'].unique())\n",
    "print()\n",
    "print('Возраст:', data_credit_clients['dob_years'].unique())\n",
    "print()\n",
    "print('Образование:', data_credit_clients['education'].unique())\n",
    "print()\n",
    "print('Индексы образования:', data_credit_clients['education_id'].unique())\n",
    "print()\n",
    "print('Семейное положение:', data_credit_clients['family_status'].unique())\n",
    "print()\n",
    "print('Индексы семейного положения:', data_credit_clients['family_status_id'].unique())\n",
    "print()\n",
    "print('Пол:', data_credit_clients['gender'].unique())\n",
    "print()\n",
    "print('Вид занятости:', data_credit_clients['income_type'].unique())\n",
    "print()\n",
    "print('Дебеторская задолженность', data_credit_clients['debt'].unique())"
   ]
  },
  {
   "cell_type": "markdown",
   "metadata": {},
   "source": [
    "1. Столбцы \"дети\" и \"стаж\" - привести все значения к абсолютным  \n",
    "2. В столбце \"образование\" и \"семейное положение\" нужно привести все название к одному виду - с маленькой буквы. индексы останутся в соответствии с таблицей. \n",
    "3. Столбец \"возраст\" - проверить кол-во нулевых значений по возрасту - иключить ? из статистики.  "
   ]
  },
  {
   "cell_type": "markdown",
   "metadata": {},
   "source": [
    "Столбцы \"дети\" и \"стаж\" - приведем к абсолютным целочисленным значениям"
   ]
  },
  {
   "cell_type": "code",
   "execution_count": 13,
   "metadata": {},
   "outputs": [],
   "source": [
    "data_credit_clients['days_employed'] = data_credit_clients['days_employed'].astype('int')\n",
    "data_credit_clients['days_employed'] = data_credit_clients['days_employed'].abs()\n",
    "data_credit_clients['children'] = data_credit_clients['children'].abs()"
   ]
  },
  {
   "cell_type": "markdown",
   "metadata": {},
   "source": [
    "Данные по столбцу \"ежемесячный доход\" приведем к целочисленным значениям"
   ]
  },
  {
   "cell_type": "code",
   "execution_count": 14,
   "metadata": {},
   "outputs": [],
   "source": [
    "data_credit_clients['total_income'] = pd.to_numeric(data_credit_clients['total_income'], errors='coerce').astype('int')"
   ]
  },
  {
   "cell_type": "markdown",
   "metadata": {},
   "source": [
    "Проверяем изменение данных"
   ]
  },
  {
   "cell_type": "code",
   "execution_count": 15,
   "metadata": {},
   "outputs": [
    {
     "name": "stdout",
     "output_type": "stream",
     "text": [
      "<class 'pandas.core.frame.DataFrame'>\n",
      "RangeIndex: 21525 entries, 0 to 21524\n",
      "Data columns (total 12 columns):\n",
      "children            21525 non-null int64\n",
      "days_employed       21525 non-null int64\n",
      "dob_years           21525 non-null int64\n",
      "education           21525 non-null object\n",
      "education_id        21525 non-null int64\n",
      "family_status       21525 non-null object\n",
      "family_status_id    21525 non-null int64\n",
      "gender              21525 non-null object\n",
      "income_type         21525 non-null object\n",
      "debt                21525 non-null int64\n",
      "total_income        21525 non-null int64\n",
      "purpose             21525 non-null object\n",
      "dtypes: int64(7), object(5)\n",
      "memory usage: 2.0+ MB\n",
      "None\n"
     ]
    }
   ],
   "source": [
    "print(data_credit_clients.info())"
   ]
  },
  {
   "cell_type": "markdown",
   "metadata": {},
   "source": [
    "В столбце \"образование\" и \"семейное положение\" приводим названия к одному виду - с маленькой буквы. Проверяем индексы."
   ]
  },
  {
   "cell_type": "code",
   "execution_count": 16,
   "metadata": {},
   "outputs": [
    {
     "name": "stdout",
     "output_type": "stream",
     "text": [
      "Образование: ['высшее' 'среднее' 'неоконченное высшее' 'начальное' 'ученая степень']\n",
      "Индексы образования: [0 1 2 3 4]\n",
      "\n",
      "Семейное положение: ['женат / замужем' 'гражданский брак' 'вдовец / вдова' 'в разводе'\n",
      " 'не женат / не замужем']\n",
      "Индексы семейного положения [0 1 2 3 4]\n"
     ]
    }
   ],
   "source": [
    "data_credit_clients['education'] = data_credit_clients['education'].str.lower()\n",
    "print('Образование:', data_credit_clients['education'].unique())\n",
    "print('Индексы образования:', data_credit_clients['education_id'].unique())\n",
    "print()\n",
    "data_credit_clients['family_status'] = data_credit_clients['family_status'].str.lower()\n",
    "print('Семейное положение:', data_credit_clients['family_status'].unique())\n",
    "print('Индексы семейного положения', data_credit_clients['family_status_id'].unique())"
   ]
  },
  {
   "cell_type": "markdown",
   "metadata": {},
   "source": [
    "Проверяем изменения на примере данных"
   ]
  },
  {
   "cell_type": "code",
   "execution_count": 17,
   "metadata": {},
   "outputs": [
    {
     "name": "stdout",
     "output_type": "stream",
     "text": [
      "   children  days_employed  dob_years education  education_id  \\\n",
      "0         1           8437         42    высшее             0   \n",
      "1         1           4024         36   среднее             1   \n",
      "2         0           5623         33   среднее             1   \n",
      "3         3           4124         32   среднее             1   \n",
      "4         0         340266         53   среднее             1   \n",
      "\n",
      "      family_status  family_status_id gender income_type  debt  total_income  \\\n",
      "0   женат / замужем                 0      F   сотрудник     0        253875   \n",
      "1   женат / замужем                 0      F   сотрудник     0        112080   \n",
      "2   женат / замужем                 0      M   сотрудник     0        145885   \n",
      "3   женат / замужем                 0      M   сотрудник     0        267628   \n",
      "4  гражданский брак                 1      F   пенсионер     0        158616   \n",
      "\n",
      "                      purpose  \n",
      "0               покупка жилья  \n",
      "1     приобретение автомобиля  \n",
      "2               покупка жилья  \n",
      "3  дополнительное образование  \n",
      "4             сыграть свадьбу  \n"
     ]
    }
   ],
   "source": [
    "print(data_credit_clients.head())"
   ]
  },
  {
   "cell_type": "markdown",
   "metadata": {},
   "source": [
    "Проведем исследование нулевых значений возраста заемщиков."
   ]
  },
  {
   "cell_type": "code",
   "execution_count": 18,
   "metadata": {},
   "outputs": [
    {
     "name": "stdout",
     "output_type": "stream",
     "text": [
      "Возраст: [42 36 33 32 53 27 43 50 35 41 40 65 54 56 26 48 24 21 57 67 28 63 62 47\n",
      " 34 68 25 31 30 20 49 37 45 61 64 44 52 46 23 38 39 51  0 59 29 60 55 58\n",
      " 71 22 73 66 69 19 72 70 74 75]\n",
      "\n",
      "Количество нулевых значений: 101\n"
     ]
    }
   ],
   "source": [
    "print('Возраст:', data_credit_clients['dob_years'].unique())\n",
    "null_dob_years = data_credit_clients['dob_years'] == 0\n",
    "print()\n",
    "print('Количество нулевых значений:', null_dob_years.sum())"
   ]
  },
  {
   "cell_type": "markdown",
   "metadata": {},
   "source": [
    "101 строка из 21525 записей = отсутствующие значения возраста заемщиков, одновременно с этим у части из них стаж составляет около 100 лет.   Количество таких строк составляет порядка 0,47% от всего объема данных. Можем сохранить записи заполним отсутствующие данные средним значением возраста по категории занятости."
   ]
  },
  {
   "cell_type": "markdown",
   "metadata": {},
   "source": [
    "Находим среднее значение возраста по категории занятости"
   ]
  },
  {
   "cell_type": "code",
   "execution_count": 19,
   "metadata": {
    "scrolled": true
   },
   "outputs": [
    {
     "name": "stdout",
     "output_type": "stream",
     "text": [
      "income_type\n",
      "безработный        38\n",
      "в декрете          39\n",
      "госслужащий        40\n",
      "компаньон          39\n",
      "пенсионер          59\n",
      "предприниматель    42\n",
      "сотрудник          39\n",
      "студент            22\n",
      "Name: dob_years, dtype: int64\n",
      "\n",
      "38\n"
     ]
    }
   ],
   "source": [
    "mean_dob_years_by_income_type = data_credit_clients.groupby('income_type')['dob_years'].mean().astype('int')\n",
    "print(mean_dob_years_by_income_type)\n",
    "print()\n",
    "print(mean_dob_years_by_income_type['безработный']) # Проверка"
   ]
  },
  {
   "cell_type": "markdown",
   "metadata": {},
   "source": [
    "В большинстве случаев средний возраст около 40 лет."
   ]
  },
  {
   "cell_type": "markdown",
   "metadata": {},
   "source": [
    "По аналогии с функцией медианы для \"ежемесячного дохода\" напишем функцию замены нулевых значений на средние в \"возрасте\", в зависимости от категории занятости."
   ]
  },
  {
   "cell_type": "code",
   "execution_count": 20,
   "metadata": {},
   "outputs": [
    {
     "name": "stdout",
     "output_type": "stream",
     "text": [
      "19\n",
      "Возраст: [42 36 33 32 53 27 43 50 35 41 40 65 54 56 26 48 24 21 57 67 28 63 62 47\n",
      " 34 68 25 31 30 20 49 37 45 61 64 44 52 46 23 38 39 51 59 29 60 55 58 71\n",
      " 22 73 66 69 19 72 70 74 75]\n"
     ]
    }
   ],
   "source": [
    "def mean_dob_years(job):\n",
    "    data_credit_clients.loc[data_credit_clients['income_type'] == job, 'dob_years'] = \\\n",
    "    data_credit_clients.loc[data_credit_clients['income_type'] == job, 'dob_years'].replace(0, mean_dob_years_by_income_type[job])\n",
    "\n",
    "list_job = data_credit_clients['income_type'].unique()\n",
    "for word in list_job:\n",
    "      mean_dob_years(word)\n",
    "\n",
    "print(data_credit_clients.loc[data_credit_clients['income_type'] == 'госслужащий', 'dob_years'].min()) #Проверка\n",
    "print('Возраст:', data_credit_clients['dob_years'].unique()) #Проверка"
   ]
  },
  {
   "cell_type": "code",
   "execution_count": 21,
   "metadata": {},
   "outputs": [
    {
     "name": "stdout",
     "output_type": "stream",
     "text": [
      "       children  days_employed  dob_years education  education_id  \\\n",
      "99            0         346541         59   среднее             1   \n",
      "149           0           2664         39   среднее             1   \n",
      "270           3           1872         39   среднее             1   \n",
      "578           0         397856         59   среднее             1   \n",
      "1040          0           1158         39    высшее             0   \n",
      "...         ...            ...        ...       ...           ...   \n",
      "19829         0              0         39   среднее             1   \n",
      "20462         0         338734         59   среднее             1   \n",
      "20577         0         331741         59   среднее             1   \n",
      "21179         2            108         39    высшее             0   \n",
      "21313         0           1268         39   среднее             1   \n",
      "\n",
      "               family_status  family_status_id gender income_type  debt  \\\n",
      "99           женат / замужем                 0      F   пенсионер     0   \n",
      "149                в разводе                 3      F   сотрудник     0   \n",
      "270          женат / замужем                 0      F   сотрудник     0   \n",
      "578          женат / замужем                 0      F   пенсионер     0   \n",
      "1040               в разводе                 3      F   компаньон     0   \n",
      "...                      ...               ...    ...         ...   ...   \n",
      "19829        женат / замужем                 0      F   сотрудник     0   \n",
      "20462        женат / замужем                 0      F   пенсионер     0   \n",
      "20577  не женат / не замужем                 4      F   пенсионер     0   \n",
      "21179        женат / замужем                 0      M   компаньон     0   \n",
      "21313  не женат / не замужем                 4      M   сотрудник     0   \n",
      "\n",
      "       total_income                                 purpose  \n",
      "99            71291                              автомобиль  \n",
      "149           70176                       операции с жильем  \n",
      "270          102166                            ремонт жилью  \n",
      "578           97620  строительство собственной недвижимости  \n",
      "1040         303994                         свой автомобиль  \n",
      "...             ...                                     ...  \n",
      "19829        142594                                   жилье  \n",
      "20462        259193                    покупка своего жилья  \n",
      "20577        129788                            недвижимость  \n",
      "21179        240702        строительство жилой недвижимости  \n",
      "21313        152419                       операции с жильем  \n",
      "\n",
      "[101 rows x 12 columns]\n"
     ]
    }
   ],
   "source": [
    "print(data_credit_clients.loc[null_dob_years])"
   ]
  },
  {
   "cell_type": "markdown",
   "metadata": {},
   "source": [
    "Нулевые значения возраста заменены на средний показатель в зависимости от категории занятости."
   ]
  },
  {
   "cell_type": "markdown",
   "metadata": {},
   "source": [
    "Проверим данные по возрасту заемщиков на предмет \"долгожителей в профессии\""
   ]
  },
  {
   "cell_type": "code",
   "execution_count": 22,
   "metadata": {},
   "outputs": [
    {
     "name": "stdout",
     "output_type": "stream",
     "text": [
      "350691    1\n",
      "329638    1\n",
      "346609    1\n",
      "360739    1\n",
      "6219      1\n",
      "Name: days_employed, dtype: int64\n",
      "\n",
      "count     21525.000000\n",
      "mean      60155.970128\n",
      "std      133355.906156\n",
      "min           0.000000\n",
      "25%         610.000000\n",
      "50%        1808.000000\n",
      "75%        4779.000000\n",
      "max      401755.000000\n",
      "Name: days_employed, dtype: float64\n"
     ]
    }
   ],
   "source": [
    "print(data_credit_clients['days_employed'].value_counts().tail())\n",
    "print()\n",
    "print(data_credit_clients['days_employed'].describe())"
   ]
  },
  {
   "cell_type": "markdown",
   "metadata": {},
   "source": [
    "### Вывод"
   ]
  },
  {
   "cell_type": "markdown",
   "metadata": {},
   "source": [
    "- Заменили тип данных в столбце по трудовому стажу и ежемесячному доходe на целочисленный,    так как точность до нескольких значений после запятой в данном случае не важна.    \n",
    "- Данные по трудовому стажу и детям привели к абсолютным значениям.    \n",
    "- Провели нормализацию по столбцу \"образование\" и \"семейное положение\" - привели все название к одному виду. Индексы соответсвуют.     \n",
    "- 101 запись с нулевым значением возраста - значения заменили на средние показатели по возрасту применительно к каждой категории занятости.  \n",
    "- Данные о необычно большом трудовом стаже у части заемщиков не удалены из таблицы. Хотя это явные ощибки ввода - эти данные не влияют на результаты исследования.   "
   ]
  },
  {
   "cell_type": "markdown",
   "metadata": {},
   "source": [
    "### Обработка дубликатов"
   ]
  },
  {
   "cell_type": "markdown",
   "metadata": {},
   "source": [
    "Проведем проверку дубликатов, сначала проверим количество дубликатов в таблице"
   ]
  },
  {
   "cell_type": "code",
   "execution_count": 23,
   "metadata": {},
   "outputs": [
    {
     "name": "stdout",
     "output_type": "stream",
     "text": [
      "71\n"
     ]
    }
   ],
   "source": [
    "print(data_credit_clients.duplicated().sum())"
   ]
  },
  {
   "cell_type": "markdown",
   "metadata": {},
   "source": [
    "Оценим визуально наличие дубликатов"
   ]
  },
  {
   "cell_type": "code",
   "execution_count": 24,
   "metadata": {},
   "outputs": [
    {
     "data": {
      "text/html": [
       "<div>\n",
       "<style scoped>\n",
       "    .dataframe tbody tr th:only-of-type {\n",
       "        vertical-align: middle;\n",
       "    }\n",
       "\n",
       "    .dataframe tbody tr th {\n",
       "        vertical-align: top;\n",
       "    }\n",
       "\n",
       "    .dataframe thead th {\n",
       "        text-align: right;\n",
       "    }\n",
       "</style>\n",
       "<table border=\"1\" class=\"dataframe\">\n",
       "  <thead>\n",
       "    <tr style=\"text-align: right;\">\n",
       "      <th></th>\n",
       "      <th>children</th>\n",
       "      <th>days_employed</th>\n",
       "      <th>dob_years</th>\n",
       "      <th>education</th>\n",
       "      <th>education_id</th>\n",
       "      <th>family_status</th>\n",
       "      <th>family_status_id</th>\n",
       "      <th>gender</th>\n",
       "      <th>income_type</th>\n",
       "      <th>debt</th>\n",
       "      <th>total_income</th>\n",
       "      <th>purpose</th>\n",
       "    </tr>\n",
       "  </thead>\n",
       "  <tbody>\n",
       "    <tr>\n",
       "      <td>13639</td>\n",
       "      <td>0</td>\n",
       "      <td>0</td>\n",
       "      <td>64</td>\n",
       "      <td>среднее</td>\n",
       "      <td>1</td>\n",
       "      <td>женат / замужем</td>\n",
       "      <td>0</td>\n",
       "      <td>F</td>\n",
       "      <td>пенсионер</td>\n",
       "      <td>0</td>\n",
       "      <td>118514</td>\n",
       "      <td>автомобиль</td>\n",
       "    </tr>\n",
       "    <tr>\n",
       "      <td>16378</td>\n",
       "      <td>0</td>\n",
       "      <td>0</td>\n",
       "      <td>46</td>\n",
       "      <td>среднее</td>\n",
       "      <td>1</td>\n",
       "      <td>женат / замужем</td>\n",
       "      <td>0</td>\n",
       "      <td>F</td>\n",
       "      <td>сотрудник</td>\n",
       "      <td>0</td>\n",
       "      <td>142594</td>\n",
       "      <td>высшее образование</td>\n",
       "    </tr>\n",
       "    <tr>\n",
       "      <td>20702</td>\n",
       "      <td>0</td>\n",
       "      <td>0</td>\n",
       "      <td>64</td>\n",
       "      <td>среднее</td>\n",
       "      <td>1</td>\n",
       "      <td>женат / замужем</td>\n",
       "      <td>0</td>\n",
       "      <td>F</td>\n",
       "      <td>пенсионер</td>\n",
       "      <td>0</td>\n",
       "      <td>118514</td>\n",
       "      <td>дополнительное образование</td>\n",
       "    </tr>\n",
       "    <tr>\n",
       "      <td>8583</td>\n",
       "      <td>0</td>\n",
       "      <td>0</td>\n",
       "      <td>58</td>\n",
       "      <td>высшее</td>\n",
       "      <td>0</td>\n",
       "      <td>не женат / не замужем</td>\n",
       "      <td>4</td>\n",
       "      <td>F</td>\n",
       "      <td>пенсионер</td>\n",
       "      <td>0</td>\n",
       "      <td>118514</td>\n",
       "      <td>дополнительное образование</td>\n",
       "    </tr>\n",
       "    <tr>\n",
       "      <td>18428</td>\n",
       "      <td>0</td>\n",
       "      <td>0</td>\n",
       "      <td>64</td>\n",
       "      <td>среднее</td>\n",
       "      <td>1</td>\n",
       "      <td>женат / замужем</td>\n",
       "      <td>0</td>\n",
       "      <td>F</td>\n",
       "      <td>пенсионер</td>\n",
       "      <td>0</td>\n",
       "      <td>118514</td>\n",
       "      <td>жилье</td>\n",
       "    </tr>\n",
       "    <tr>\n",
       "      <td>...</td>\n",
       "      <td>...</td>\n",
       "      <td>...</td>\n",
       "      <td>...</td>\n",
       "      <td>...</td>\n",
       "      <td>...</td>\n",
       "      <td>...</td>\n",
       "      <td>...</td>\n",
       "      <td>...</td>\n",
       "      <td>...</td>\n",
       "      <td>...</td>\n",
       "      <td>...</td>\n",
       "      <td>...</td>\n",
       "    </tr>\n",
       "    <tr>\n",
       "      <td>17338</td>\n",
       "      <td>0</td>\n",
       "      <td>0</td>\n",
       "      <td>64</td>\n",
       "      <td>среднее</td>\n",
       "      <td>1</td>\n",
       "      <td>гражданский брак</td>\n",
       "      <td>1</td>\n",
       "      <td>F</td>\n",
       "      <td>пенсионер</td>\n",
       "      <td>0</td>\n",
       "      <td>118514</td>\n",
       "      <td>сыграть свадьбу</td>\n",
       "    </tr>\n",
       "    <tr>\n",
       "      <td>16902</td>\n",
       "      <td>2</td>\n",
       "      <td>0</td>\n",
       "      <td>39</td>\n",
       "      <td>среднее</td>\n",
       "      <td>1</td>\n",
       "      <td>гражданский брак</td>\n",
       "      <td>1</td>\n",
       "      <td>F</td>\n",
       "      <td>сотрудник</td>\n",
       "      <td>0</td>\n",
       "      <td>142594</td>\n",
       "      <td>сыграть свадьбу</td>\n",
       "    </tr>\n",
       "    <tr>\n",
       "      <td>3290</td>\n",
       "      <td>0</td>\n",
       "      <td>0</td>\n",
       "      <td>58</td>\n",
       "      <td>среднее</td>\n",
       "      <td>1</td>\n",
       "      <td>гражданский брак</td>\n",
       "      <td>1</td>\n",
       "      <td>F</td>\n",
       "      <td>пенсионер</td>\n",
       "      <td>0</td>\n",
       "      <td>118514</td>\n",
       "      <td>сыграть свадьбу</td>\n",
       "    </tr>\n",
       "    <tr>\n",
       "      <td>10697</td>\n",
       "      <td>0</td>\n",
       "      <td>0</td>\n",
       "      <td>40</td>\n",
       "      <td>среднее</td>\n",
       "      <td>1</td>\n",
       "      <td>гражданский брак</td>\n",
       "      <td>1</td>\n",
       "      <td>F</td>\n",
       "      <td>компаньон</td>\n",
       "      <td>0</td>\n",
       "      <td>172357</td>\n",
       "      <td>сыграть свадьбу</td>\n",
       "    </tr>\n",
       "    <tr>\n",
       "      <td>13773</td>\n",
       "      <td>0</td>\n",
       "      <td>0</td>\n",
       "      <td>35</td>\n",
       "      <td>среднее</td>\n",
       "      <td>1</td>\n",
       "      <td>гражданский брак</td>\n",
       "      <td>1</td>\n",
       "      <td>F</td>\n",
       "      <td>сотрудник</td>\n",
       "      <td>0</td>\n",
       "      <td>142594</td>\n",
       "      <td>сыграть свадьбу</td>\n",
       "    </tr>\n",
       "  </tbody>\n",
       "</table>\n",
       "<p>71 rows × 12 columns</p>\n",
       "</div>"
      ],
      "text/plain": [
       "       children  days_employed  dob_years education  education_id  \\\n",
       "13639         0              0         64   среднее             1   \n",
       "16378         0              0         46   среднее             1   \n",
       "20702         0              0         64   среднее             1   \n",
       "8583          0              0         58    высшее             0   \n",
       "18428         0              0         64   среднее             1   \n",
       "...         ...            ...        ...       ...           ...   \n",
       "17338         0              0         64   среднее             1   \n",
       "16902         2              0         39   среднее             1   \n",
       "3290          0              0         58   среднее             1   \n",
       "10697         0              0         40   среднее             1   \n",
       "13773         0              0         35   среднее             1   \n",
       "\n",
       "               family_status  family_status_id gender income_type  debt  \\\n",
       "13639        женат / замужем                 0      F   пенсионер     0   \n",
       "16378        женат / замужем                 0      F   сотрудник     0   \n",
       "20702        женат / замужем                 0      F   пенсионер     0   \n",
       "8583   не женат / не замужем                 4      F   пенсионер     0   \n",
       "18428        женат / замужем                 0      F   пенсионер     0   \n",
       "...                      ...               ...    ...         ...   ...   \n",
       "17338       гражданский брак                 1      F   пенсионер     0   \n",
       "16902       гражданский брак                 1      F   сотрудник     0   \n",
       "3290        гражданский брак                 1      F   пенсионер     0   \n",
       "10697       гражданский брак                 1      F   компаньон     0   \n",
       "13773       гражданский брак                 1      F   сотрудник     0   \n",
       "\n",
       "       total_income                     purpose  \n",
       "13639        118514                  автомобиль  \n",
       "16378        142594          высшее образование  \n",
       "20702        118514  дополнительное образование  \n",
       "8583         118514  дополнительное образование  \n",
       "18428        118514                       жилье  \n",
       "...             ...                         ...  \n",
       "17338        118514             сыграть свадьбу  \n",
       "16902        142594             сыграть свадьбу  \n",
       "3290         118514             сыграть свадьбу  \n",
       "10697        172357             сыграть свадьбу  \n",
       "13773        142594             сыграть свадьбу  \n",
       "\n",
       "[71 rows x 12 columns]"
      ]
     },
     "execution_count": 24,
     "metadata": {},
     "output_type": "execute_result"
    }
   ],
   "source": [
    "data_credit_clients[data_credit_clients.duplicated()].sort_values(by = 'purpose')"
   ]
  },
  {
   "cell_type": "markdown",
   "metadata": {},
   "source": [
    "Избавляемся от дубликатов в данных"
   ]
  },
  {
   "cell_type": "code",
   "execution_count": 25,
   "metadata": {
    "scrolled": true
   },
   "outputs": [
    {
     "name": "stdout",
     "output_type": "stream",
     "text": [
      "Empty DataFrame\n",
      "Columns: [children, days_employed, dob_years, education, education_id, family_status, family_status_id, gender, income_type, debt, total_income, purpose]\n",
      "Index: []\n"
     ]
    }
   ],
   "source": [
    "data_credit_clients = data_credit_clients.drop_duplicates().reset_index(drop = True)\n",
    "print(data_credit_clients[data_credit_clients.duplicated() == True]) #Проверка"
   ]
  },
  {
   "cell_type": "markdown",
   "metadata": {},
   "source": [
    "### Вывод"
   ]
  },
  {
   "cell_type": "markdown",
   "metadata": {},
   "source": [
    "Провели очистку от дубликатов."
   ]
  },
  {
   "cell_type": "markdown",
   "metadata": {},
   "source": [
    "### Лемматизация"
   ]
  },
  {
   "cell_type": "code",
   "execution_count": 26,
   "metadata": {
    "scrolled": true
   },
   "outputs": [
    {
     "name": "stdout",
     "output_type": "stream",
     "text": [
      "Counter({' ': 59, ', ': 37, 'покупка': 10, 'недвижимость': 10, 'автомобиль': 9, 'образование': 9, 'жилье': 7, 'с': 5, 'операция': 4, 'на': 4, 'свой': 4, 'свадьба': 3, 'строительство': 3, 'получение': 3, 'высокий': 3, 'дополнительный': 2, 'для': 2, 'коммерческий': 2, 'жилой': 2, 'подержать': 2, 'заниматься': 2, 'сделка': 2, 'приобретение': 1, 'сыграть': 1, 'проведение': 1, 'семья': 1, 'собственный': 1, 'со': 1, 'профильный': 1, 'сдача': 1, 'ремонт': 1, '\\n': 1})\n",
      "\n",
      "['покупка', ' ', 'жилье', ', ', 'приобретение', ' ', 'автомобиль', ', ', 'дополнительный', ' ', 'образование', ', ', 'сыграть', ' ', 'свадьба', ', ', 'операция', ' ', 'с', ' ', 'жилье', ', ', 'образование', ', ', 'на', ' ', 'проведение', ' ', 'свадьба', ', ', 'покупка', ' ', 'жилье', ' ', 'для', ' ', 'семья', ', ', 'покупка', ' ', 'недвижимость', ', ', 'покупка', ' ', 'коммерческий', ' ', 'недвижимость', ', ', 'покупка', ' ', 'жилой', ' ', 'недвижимость', ', ', 'строительство', ' ', 'собственный', ' ', 'недвижимость', ', ', 'недвижимость', ', ', 'строительство', ' ', 'недвижимость', ', ', 'на', ' ', 'покупка', ' ', 'подержать', ' ', 'автомобиль', ', ', 'на', ' ', 'покупка', ' ', 'свой', ' ', 'автомобиль', ', ', 'операция', ' ', 'с', ' ', 'коммерческий', ' ', 'недвижимость', ', ', 'строительство', ' ', 'жилой', ' ', 'недвижимость', ', ', 'жилье', ', ', 'операция', ' ', 'со', ' ', 'свой', ' ', 'недвижимость', ', ', 'автомобиль', ', ', 'заниматься', ' ', 'образование', ', ', 'сделка', ' ', 'с', ' ', 'подержать', ' ', 'автомобиль', ', ', 'получение', ' ', 'образование', ', ', 'автомобиль', ', ', 'свадьба', ', ', 'получение', ' ', 'дополнительный', ' ', 'образование', ', ', 'покупка', ' ', 'свой', ' ', 'жилье', ', ', 'операция', ' ', 'с', ' ', 'недвижимость', ', ', 'получение', ' ', 'высокий', ' ', 'образование', ', ', 'свой', ' ', 'автомобиль', ', ', 'сделка', ' ', 'с', ' ', 'автомобиль', ', ', 'профильный', ' ', 'образование', ', ', 'высокий', ' ', 'образование', ', ', 'покупка', ' ', 'жилье', ' ', 'для', ' ', 'сдача', ', ', 'на', ' ', 'покупка', ' ', 'автомобиль', ', ', 'ремонт', ' ', 'жилье', ', ', 'заниматься', ' ', 'высокий', ' ', 'образование', '\\n']\n",
      "\n",
      "0                             [покупка,  , жилье, \\n]\n",
      "1                   [приобретение,  , автомобиль, \\n]\n",
      "2                             [покупка,  , жилье, \\n]\n",
      "3                [дополнительный,  , образование, \\n]\n",
      "4                           [сыграть,  , свадьба, \\n]\n",
      "                             ...                     \n",
      "21449                  [операция,  , с,  , жилье, \\n]\n",
      "21450               [сделка,  , с,  , автомобиль, \\n]\n",
      "21451                              [недвижимость, \\n]\n",
      "21452    [на,  , покупка,  , свой,  , автомобиль, \\n]\n",
      "21453             [на,  , покупка,  , автомобиль, \\n]\n",
      "Name: purpose_lemma, Length: 21454, dtype: object\n"
     ]
    }
   ],
   "source": [
    "data_purpose = ', '.join(data_credit_clients['purpose'].unique()) #Список для лематизации\n",
    "\n",
    "lemm_purpose = m.lemmatize(data_purpose)\n",
    "\n",
    "print(Counter(lemm_purpose)) #Количественная оценка использования терминов в описании цели кредита\n",
    "print()\n",
    "print(lemm_purpose)\n",
    "print()\n",
    "#создание резервного столбца для фильрации по леммам.\n",
    "data_credit_clients['purpose_lemma'] = data_credit_clients['purpose'].apply(lambda x: m.lemmatize(x))\n",
    "print(data_credit_clients['purpose_lemma'])\n",
    "                                                                   "
   ]
  },
  {
   "cell_type": "markdown",
   "metadata": {},
   "source": [
    "Для оптимизации запросов в колонке \"цель получения кредита\" выделим несколько ключевых слов: недвижимость(жилье, ремонт - одна позиция), автомобиль, образование, свадьба. Остальные ключевые - связаны с этим списком."
   ]
  },
  {
   "cell_type": "markdown",
   "metadata": {},
   "source": [
    "Соберем список key-слов из списка лемм \"data_purpose\" из ключевых слова - недвижимость, жилье, автомобиль, образование, свадьба, ремонт."
   ]
  },
  {
   "cell_type": "code",
   "execution_count": 27,
   "metadata": {
    "scrolled": true
   },
   "outputs": [],
   "source": [
    "key_lemm_purpose =  ['недвижимость', 'жилье', 'автомобиль', 'образование', 'свадьба']\n",
    "data_credit_clients['purpose_lemma'] = data_credit_clients['purpose_lemma'] \\\n",
    "    .apply(lambda x: ' '.join([item for item in x if item in key_lemm_purpose]))"
   ]
  },
  {
   "cell_type": "markdown",
   "metadata": {},
   "source": [
    "Объединим категорию \"недвижимость\", \"жилье\""
   ]
  },
  {
   "cell_type": "code",
   "execution_count": 28,
   "metadata": {
    "scrolled": false
   },
   "outputs": [
    {
     "name": "stdout",
     "output_type": "stream",
     "text": [
      "Отфильрованные значения \"целей кредита\" в новом списке \"purpose_lemma\": ['недвижимость' 'автомобиль' 'образование' 'свадьба']\n"
     ]
    }
   ],
   "source": [
    "data_credit_clients['purpose_lemma'] = data_credit_clients['purpose_lemma'].replace('жилье', 'недвижимость')\n",
    "print('Отфильрованные значения \"целей кредита\" в новом списке \"purpose_lemma\":', data_credit_clients['purpose_lemma'].unique())"
   ]
  },
  {
   "cell_type": "code",
   "execution_count": 29,
   "metadata": {},
   "outputs": [
    {
     "data": {
      "text/html": [
       "<div>\n",
       "<style scoped>\n",
       "    .dataframe tbody tr th:only-of-type {\n",
       "        vertical-align: middle;\n",
       "    }\n",
       "\n",
       "    .dataframe tbody tr th {\n",
       "        vertical-align: top;\n",
       "    }\n",
       "\n",
       "    .dataframe thead th {\n",
       "        text-align: right;\n",
       "    }\n",
       "</style>\n",
       "<table border=\"1\" class=\"dataframe\">\n",
       "  <thead>\n",
       "    <tr style=\"text-align: right;\">\n",
       "      <th></th>\n",
       "      <th>children</th>\n",
       "      <th>days_employed</th>\n",
       "      <th>dob_years</th>\n",
       "      <th>education</th>\n",
       "      <th>education_id</th>\n",
       "      <th>family_status</th>\n",
       "      <th>family_status_id</th>\n",
       "      <th>gender</th>\n",
       "      <th>income_type</th>\n",
       "      <th>debt</th>\n",
       "      <th>total_income</th>\n",
       "      <th>purpose</th>\n",
       "    </tr>\n",
       "  </thead>\n",
       "  <tbody>\n",
       "    <tr>\n",
       "      <td>0</td>\n",
       "      <td>1</td>\n",
       "      <td>8437</td>\n",
       "      <td>42</td>\n",
       "      <td>высшее</td>\n",
       "      <td>0</td>\n",
       "      <td>женат / замужем</td>\n",
       "      <td>0</td>\n",
       "      <td>F</td>\n",
       "      <td>сотрудник</td>\n",
       "      <td>0</td>\n",
       "      <td>253875</td>\n",
       "      <td>недвижимость</td>\n",
       "    </tr>\n",
       "    <tr>\n",
       "      <td>1</td>\n",
       "      <td>1</td>\n",
       "      <td>4024</td>\n",
       "      <td>36</td>\n",
       "      <td>среднее</td>\n",
       "      <td>1</td>\n",
       "      <td>женат / замужем</td>\n",
       "      <td>0</td>\n",
       "      <td>F</td>\n",
       "      <td>сотрудник</td>\n",
       "      <td>0</td>\n",
       "      <td>112080</td>\n",
       "      <td>автомобиль</td>\n",
       "    </tr>\n",
       "    <tr>\n",
       "      <td>2</td>\n",
       "      <td>0</td>\n",
       "      <td>5623</td>\n",
       "      <td>33</td>\n",
       "      <td>среднее</td>\n",
       "      <td>1</td>\n",
       "      <td>женат / замужем</td>\n",
       "      <td>0</td>\n",
       "      <td>M</td>\n",
       "      <td>сотрудник</td>\n",
       "      <td>0</td>\n",
       "      <td>145885</td>\n",
       "      <td>недвижимость</td>\n",
       "    </tr>\n",
       "    <tr>\n",
       "      <td>3</td>\n",
       "      <td>3</td>\n",
       "      <td>4124</td>\n",
       "      <td>32</td>\n",
       "      <td>среднее</td>\n",
       "      <td>1</td>\n",
       "      <td>женат / замужем</td>\n",
       "      <td>0</td>\n",
       "      <td>M</td>\n",
       "      <td>сотрудник</td>\n",
       "      <td>0</td>\n",
       "      <td>267628</td>\n",
       "      <td>образование</td>\n",
       "    </tr>\n",
       "    <tr>\n",
       "      <td>4</td>\n",
       "      <td>0</td>\n",
       "      <td>340266</td>\n",
       "      <td>53</td>\n",
       "      <td>среднее</td>\n",
       "      <td>1</td>\n",
       "      <td>гражданский брак</td>\n",
       "      <td>1</td>\n",
       "      <td>F</td>\n",
       "      <td>пенсионер</td>\n",
       "      <td>0</td>\n",
       "      <td>158616</td>\n",
       "      <td>свадьба</td>\n",
       "    </tr>\n",
       "  </tbody>\n",
       "</table>\n",
       "</div>"
      ],
      "text/plain": [
       "   children  days_employed  dob_years education  education_id  \\\n",
       "0         1           8437         42    высшее             0   \n",
       "1         1           4024         36   среднее             1   \n",
       "2         0           5623         33   среднее             1   \n",
       "3         3           4124         32   среднее             1   \n",
       "4         0         340266         53   среднее             1   \n",
       "\n",
       "      family_status  family_status_id gender income_type  debt  total_income  \\\n",
       "0   женат / замужем                 0      F   сотрудник     0        253875   \n",
       "1   женат / замужем                 0      F   сотрудник     0        112080   \n",
       "2   женат / замужем                 0      M   сотрудник     0        145885   \n",
       "3   женат / замужем                 0      M   сотрудник     0        267628   \n",
       "4  гражданский брак                 1      F   пенсионер     0        158616   \n",
       "\n",
       "        purpose  \n",
       "0  недвижимость  \n",
       "1    автомобиль  \n",
       "2  недвижимость  \n",
       "3   образование  \n",
       "4       свадьба  "
      ]
     },
     "execution_count": 29,
     "metadata": {},
     "output_type": "execute_result"
    }
   ],
   "source": [
    "data_credit_clients['purpose'] = data_credit_clients['purpose_lemma'] #заменим значения в столбце 'purpose' на 'purpose_lemma'\n",
    "del data_credit_clients['purpose_lemma'] #удаляем вспомогательный столбец 'purpose_lemma'\n",
    "data_credit_clients.head()"
   ]
  },
  {
   "cell_type": "markdown",
   "metadata": {},
   "source": [
    "### Вывод"
   ]
  },
  {
   "cell_type": "markdown",
   "metadata": {},
   "source": [
    "- Провели лемматизацию списка \"цель получения кредита\".    \n",
    "- Выделены 4 ключевые категории: 'недвижимость', 'автомобиль', 'образование', 'свадьба'."
   ]
  },
  {
   "cell_type": "markdown",
   "metadata": {},
   "source": [
    "### Категоризация данных"
   ]
  },
  {
   "cell_type": "markdown",
   "metadata": {},
   "source": [
    "Приведем значения стажа значению стажа в годах, для более комфортного восприятия"
   ]
  },
  {
   "cell_type": "code",
   "execution_count": 30,
   "metadata": {},
   "outputs": [
    {
     "name": "stdout",
     "output_type": "stream",
     "text": [
      "Список столбцов, для замены столбца дней стажа на годы стажа:\n"
     ]
    },
    {
     "data": {
      "text/plain": [
       "['children',\n",
       " 'days_employed',\n",
       " 'dob_years',\n",
       " 'education',\n",
       " 'education_id',\n",
       " 'family_status',\n",
       " 'family_status_id',\n",
       " 'gender',\n",
       " 'income_type',\n",
       " 'debt',\n",
       " 'total_income',\n",
       " 'purpose',\n",
       " 'year_employed']"
      ]
     },
     "execution_count": 30,
     "metadata": {},
     "output_type": "execute_result"
    }
   ],
   "source": [
    "DAYS_IN_YEAR = 365 #Контстанта - кол-во дней в году.\n",
    "data_credit_clients['year_employed'] = data_credit_clients['days_employed'] / DAYS_IN_YEAR #Новый столбец - стаж в годах\n",
    "data_credit_clients['year_employed'] = data_credit_clients['year_employed'].astype('int') #Преобразование в целочисленный формат\n",
    "cols = data_credit_clients.columns.tolist()\n",
    "print('Список столбцов, для замены столбца дней стажа на годы стажа:') \n",
    "cols"
   ]
  },
  {
   "cell_type": "code",
   "execution_count": 31,
   "metadata": {},
   "outputs": [
    {
     "data": {
      "text/html": [
       "<div>\n",
       "<style scoped>\n",
       "    .dataframe tbody tr th:only-of-type {\n",
       "        vertical-align: middle;\n",
       "    }\n",
       "\n",
       "    .dataframe tbody tr th {\n",
       "        vertical-align: top;\n",
       "    }\n",
       "\n",
       "    .dataframe thead th {\n",
       "        text-align: right;\n",
       "    }\n",
       "</style>\n",
       "<table border=\"1\" class=\"dataframe\">\n",
       "  <thead>\n",
       "    <tr style=\"text-align: right;\">\n",
       "      <th></th>\n",
       "      <th>children</th>\n",
       "      <th>year_employed</th>\n",
       "      <th>dob_years</th>\n",
       "      <th>education</th>\n",
       "      <th>education_id</th>\n",
       "      <th>family_status</th>\n",
       "      <th>family_status_id</th>\n",
       "      <th>gender</th>\n",
       "      <th>income_type</th>\n",
       "      <th>debt</th>\n",
       "      <th>total_income</th>\n",
       "      <th>purpose</th>\n",
       "    </tr>\n",
       "  </thead>\n",
       "  <tbody>\n",
       "    <tr>\n",
       "      <td>0</td>\n",
       "      <td>1</td>\n",
       "      <td>23</td>\n",
       "      <td>42</td>\n",
       "      <td>высшее</td>\n",
       "      <td>0</td>\n",
       "      <td>женат / замужем</td>\n",
       "      <td>0</td>\n",
       "      <td>F</td>\n",
       "      <td>сотрудник</td>\n",
       "      <td>0</td>\n",
       "      <td>253875</td>\n",
       "      <td>недвижимость</td>\n",
       "    </tr>\n",
       "    <tr>\n",
       "      <td>1</td>\n",
       "      <td>1</td>\n",
       "      <td>11</td>\n",
       "      <td>36</td>\n",
       "      <td>среднее</td>\n",
       "      <td>1</td>\n",
       "      <td>женат / замужем</td>\n",
       "      <td>0</td>\n",
       "      <td>F</td>\n",
       "      <td>сотрудник</td>\n",
       "      <td>0</td>\n",
       "      <td>112080</td>\n",
       "      <td>автомобиль</td>\n",
       "    </tr>\n",
       "    <tr>\n",
       "      <td>2</td>\n",
       "      <td>0</td>\n",
       "      <td>15</td>\n",
       "      <td>33</td>\n",
       "      <td>среднее</td>\n",
       "      <td>1</td>\n",
       "      <td>женат / замужем</td>\n",
       "      <td>0</td>\n",
       "      <td>M</td>\n",
       "      <td>сотрудник</td>\n",
       "      <td>0</td>\n",
       "      <td>145885</td>\n",
       "      <td>недвижимость</td>\n",
       "    </tr>\n",
       "  </tbody>\n",
       "</table>\n",
       "</div>"
      ],
      "text/plain": [
       "   children  year_employed  dob_years education  education_id  \\\n",
       "0         1             23         42    высшее             0   \n",
       "1         1             11         36   среднее             1   \n",
       "2         0             15         33   среднее             1   \n",
       "\n",
       "     family_status  family_status_id gender income_type  debt  total_income  \\\n",
       "0  женат / замужем                 0      F   сотрудник     0        253875   \n",
       "1  женат / замужем                 0      F   сотрудник     0        112080   \n",
       "2  женат / замужем                 0      M   сотрудник     0        145885   \n",
       "\n",
       "        purpose  \n",
       "0  недвижимость  \n",
       "1    автомобиль  \n",
       "2  недвижимость  "
      ]
     },
     "execution_count": 31,
     "metadata": {},
     "output_type": "execute_result"
    }
   ],
   "source": [
    "#Заменяем столбец 'days_employed' на столбец 'year_employed' путем редактирования списка столбцов\n",
    "cols = ['children', 'year_employed', 'dob_years', 'education', 'education_id', 'family_status', 'family_status_id', 'gender', 'income_type', 'debt', 'total_income', 'purpose']\n",
    "data_credit_clients = data_credit_clients[cols] \n",
    "data_credit_clients.head(3) #Проверка результата"
   ]
  },
  {
   "cell_type": "markdown",
   "metadata": {},
   "source": [
    "Заменили столбец \"Дни стажа\" на \"Годы стажа\" - так нагляднее. Посмотрим на описание нового столбца"
   ]
  },
  {
   "cell_type": "code",
   "execution_count": 32,
   "metadata": {},
   "outputs": [
    {
     "name": "stdout",
     "output_type": "stream",
     "text": [
      "count    21454.000000\n",
      "mean       164.906544\n",
      "std        365.819197\n",
      "min          0.000000\n",
      "25%          1.000000\n",
      "50%          4.000000\n",
      "75%         13.000000\n",
      "max       1100.000000\n",
      "Name: year_employed, dtype: float64\n",
      "\n",
      "children            3445\n",
      "year_employed       3445\n",
      "dob_years           3445\n",
      "education           3445\n",
      "education_id        3445\n",
      "family_status       3445\n",
      "family_status_id    3445\n",
      "gender              3445\n",
      "income_type         3445\n",
      "debt                3445\n",
      "total_income        3445\n",
      "purpose             3445\n",
      "dtype: int64\n"
     ]
    }
   ],
   "source": [
    "print(data_credit_clients['year_employed'].describe())\n",
    "filter_Year_large = data_credit_clients['year_employed'] > 100 #Посмотрим сколько значений больше 100 лет\n",
    "print()\n",
    "print(data_credit_clients.loc[filter_Year_large].count())"
   ]
  },
  {
   "cell_type": "markdown",
   "metadata": {},
   "source": [
    "Некоректных записей с точки зрения стажа порядка 16%. Такой объем даннных не стоит удалять из-за ошибки ввод (умышленной или случайной) так как информация о стаже не критична для поставленной задачи."
   ]
  },
  {
   "cell_type": "markdown",
   "metadata": {},
   "source": [
    "Проведем категоризацию данных по возрастным группам заемщиков. "
   ]
  },
  {
   "cell_type": "code",
   "execution_count": 33,
   "metadata": {},
   "outputs": [
    {
     "data": {
      "text/plain": [
       "count    21454.000000\n",
       "mean        43.473758\n",
       "std         12.225661\n",
       "min         19.000000\n",
       "25%         33.000000\n",
       "50%         42.000000\n",
       "75%         53.000000\n",
       "max         75.000000\n",
       "Name: dob_years, dtype: float64"
      ]
     },
     "execution_count": 33,
     "metadata": {},
     "output_type": "execute_result"
    }
   ],
   "source": [
    "data_credit_clients['dob_years'].describe() #Получим описание столбца."
   ]
  },
  {
   "cell_type": "code",
   "execution_count": 34,
   "metadata": {},
   "outputs": [
    {
     "data": {
      "text/plain": [
       "<matplotlib.axes._subplots.AxesSubplot at 0x7fac24555c50>"
      ]
     },
     "execution_count": 34,
     "metadata": {},
     "output_type": "execute_result"
    },
    {
     "data": {
      "text/plain": [
       "Text(0.5, 1.0, 'График количество заемщиков по возрастам')"
      ]
     },
     "execution_count": 34,
     "metadata": {},
     "output_type": "execute_result"
    },
    {
     "data": {
      "text/plain": [
       "Text(0.5, 0, 'Возраст заемщика')"
      ]
     },
     "execution_count": 34,
     "metadata": {},
     "output_type": "execute_result"
    },
    {
     "data": {
      "text/plain": [
       "Text(0, 0.5, 'Количество заемщиков')"
      ]
     },
     "execution_count": 34,
     "metadata": {},
     "output_type": "execute_result"
    },
    {
     "data": {
      "image/png": "[encoded data removed]",
      "text/plain": [
       "<Figure size 1008x432 with 1 Axes>"
      ]
     },
     "metadata": {
      "needs_background": "light"
     },
     "output_type": "display_data"
    }
   ],
   "source": [
    "plt.rcParams[\"figure.figsize\"] = (14,6)\n",
    "data_credit_clients['dob_years'].value_counts().plot.bar()\n",
    "plt.title('График количество заемщиков по возрастам')\n",
    "plt.xlabel(\"Возраст заемщика\")\n",
    "plt.ylabel(\"Количество заемщиков\")"
   ]
  },
  {
   "cell_type": "markdown",
   "metadata": {},
   "source": [
    "Основная масса заемщиков - люди \"среднего возраста\". Примерно 1/8 часть люди 70+ лет. И буквально 1/12 часть заемщики до 20 лет. Разделим всех заемщиков на категории по возрастам, исходя из графика количества заемщиком выделим категории: 'до 25 лет' (возраст начала рабочей деятельности), \"от 26 до 45 лет', 'от 46 до 65 лет', 'старше 65 лет'. Правильнее наверно было бы 70+ выделить в отдельную категорию (как малую группу), слишком много категорий получается. Отсечка по пенсионному возрасту более логичная."
   ]
  },
  {
   "cell_type": "code",
   "execution_count": 35,
   "metadata": {},
   "outputs": [
    {
     "name": "stdout",
     "output_type": "stream",
     "text": [
      "до 25 лет\n",
      "46-65 лет\n",
      "старше 65 лет\n"
     ]
    }
   ],
   "source": [
    "def dop_by_age_group(age):\n",
    "    if age <= 25:\n",
    "        return 'до 25 лет'\n",
    "    if 25 < age <= 45:\n",
    "        return '26-45 лет'\n",
    "    if 45 < age <= 65:\n",
    "        return '46-65 лет'    \n",
    "    return 'старше 65 лет'\n",
    "print(dop_by_age_group(18)) #Проверка\n",
    "print(dop_by_age_group(53)) #Проверка\n",
    "print(dop_by_age_group(69)) #Проверка"
   ]
  },
  {
   "cell_type": "markdown",
   "metadata": {},
   "source": [
    "Создаем новый столбец с категорией заемщиков по возрастам"
   ]
  },
  {
   "cell_type": "code",
   "execution_count": 36,
   "metadata": {},
   "outputs": [
    {
     "data": {
      "text/html": [
       "<div>\n",
       "<style scoped>\n",
       "    .dataframe tbody tr th:only-of-type {\n",
       "        vertical-align: middle;\n",
       "    }\n",
       "\n",
       "    .dataframe tbody tr th {\n",
       "        vertical-align: top;\n",
       "    }\n",
       "\n",
       "    .dataframe thead th {\n",
       "        text-align: right;\n",
       "    }\n",
       "</style>\n",
       "<table border=\"1\" class=\"dataframe\">\n",
       "  <thead>\n",
       "    <tr style=\"text-align: right;\">\n",
       "      <th></th>\n",
       "      <th>children</th>\n",
       "      <th>year_employed</th>\n",
       "      <th>dob_years</th>\n",
       "      <th>education</th>\n",
       "      <th>education_id</th>\n",
       "      <th>family_status</th>\n",
       "      <th>family_status_id</th>\n",
       "      <th>gender</th>\n",
       "      <th>income_type</th>\n",
       "      <th>debt</th>\n",
       "      <th>total_income</th>\n",
       "      <th>purpose</th>\n",
       "      <th>dob_years_group</th>\n",
       "    </tr>\n",
       "  </thead>\n",
       "  <tbody>\n",
       "    <tr>\n",
       "      <td>7909</td>\n",
       "      <td>1</td>\n",
       "      <td>2</td>\n",
       "      <td>40</td>\n",
       "      <td>среднее</td>\n",
       "      <td>1</td>\n",
       "      <td>женат / замужем</td>\n",
       "      <td>0</td>\n",
       "      <td>M</td>\n",
       "      <td>сотрудник</td>\n",
       "      <td>0</td>\n",
       "      <td>175057</td>\n",
       "      <td>образование</td>\n",
       "      <td>26-45 лет</td>\n",
       "    </tr>\n",
       "    <tr>\n",
       "      <td>4775</td>\n",
       "      <td>0</td>\n",
       "      <td>0</td>\n",
       "      <td>30</td>\n",
       "      <td>высшее</td>\n",
       "      <td>0</td>\n",
       "      <td>женат / замужем</td>\n",
       "      <td>0</td>\n",
       "      <td>F</td>\n",
       "      <td>сотрудник</td>\n",
       "      <td>0</td>\n",
       "      <td>228368</td>\n",
       "      <td>недвижимость</td>\n",
       "      <td>26-45 лет</td>\n",
       "    </tr>\n",
       "    <tr>\n",
       "      <td>10568</td>\n",
       "      <td>0</td>\n",
       "      <td>1050</td>\n",
       "      <td>59</td>\n",
       "      <td>высшее</td>\n",
       "      <td>0</td>\n",
       "      <td>женат / замужем</td>\n",
       "      <td>0</td>\n",
       "      <td>F</td>\n",
       "      <td>пенсионер</td>\n",
       "      <td>0</td>\n",
       "      <td>103829</td>\n",
       "      <td>автомобиль</td>\n",
       "      <td>46-65 лет</td>\n",
       "    </tr>\n",
       "    <tr>\n",
       "      <td>2263</td>\n",
       "      <td>0</td>\n",
       "      <td>1</td>\n",
       "      <td>47</td>\n",
       "      <td>среднее</td>\n",
       "      <td>1</td>\n",
       "      <td>гражданский брак</td>\n",
       "      <td>1</td>\n",
       "      <td>M</td>\n",
       "      <td>сотрудник</td>\n",
       "      <td>0</td>\n",
       "      <td>215707</td>\n",
       "      <td>свадьба</td>\n",
       "      <td>46-65 лет</td>\n",
       "    </tr>\n",
       "    <tr>\n",
       "      <td>193</td>\n",
       "      <td>0</td>\n",
       "      <td>1058</td>\n",
       "      <td>60</td>\n",
       "      <td>высшее</td>\n",
       "      <td>0</td>\n",
       "      <td>в разводе</td>\n",
       "      <td>3</td>\n",
       "      <td>F</td>\n",
       "      <td>пенсионер</td>\n",
       "      <td>0</td>\n",
       "      <td>97191</td>\n",
       "      <td>автомобиль</td>\n",
       "      <td>46-65 лет</td>\n",
       "    </tr>\n",
       "  </tbody>\n",
       "</table>\n",
       "</div>"
      ],
      "text/plain": [
       "       children  year_employed  dob_years education  education_id  \\\n",
       "7909          1              2         40   среднее             1   \n",
       "4775          0              0         30    высшее             0   \n",
       "10568         0           1050         59    высшее             0   \n",
       "2263          0              1         47   среднее             1   \n",
       "193           0           1058         60    высшее             0   \n",
       "\n",
       "          family_status  family_status_id gender income_type  debt  \\\n",
       "7909    женат / замужем                 0      M   сотрудник     0   \n",
       "4775    женат / замужем                 0      F   сотрудник     0   \n",
       "10568   женат / замужем                 0      F   пенсионер     0   \n",
       "2263   гражданский брак                 1      M   сотрудник     0   \n",
       "193           в разводе                 3      F   пенсионер     0   \n",
       "\n",
       "       total_income       purpose dob_years_group  \n",
       "7909         175057   образование       26-45 лет  \n",
       "4775         228368  недвижимость       26-45 лет  \n",
       "10568        103829    автомобиль       46-65 лет  \n",
       "2263         215707       свадьба       46-65 лет  \n",
       "193           97191    автомобиль       46-65 лет  "
      ]
     },
     "execution_count": 36,
     "metadata": {},
     "output_type": "execute_result"
    }
   ],
   "source": [
    "data_credit_clients['dob_years_group'] = data_credit_clients['dob_years'].apply(dop_by_age_group) \n",
    "data_credit_clients.sample(5) #Проверка"
   ]
  },
  {
   "cell_type": "markdown",
   "metadata": {},
   "source": [
    "Провели категоризацию по возрасту, ту же операцию проведем для данных по ежемесячному доходу."
   ]
  },
  {
   "cell_type": "code",
   "execution_count": 37,
   "metadata": {},
   "outputs": [
    {
     "name": "stdout",
     "output_type": "stream",
     "text": [
      "count      21,454.00\n",
      "mean      165,319.57\n",
      "std        98,187.30\n",
      "min        20,667.00\n",
      "25%       107,623.00\n",
      "50%       142,594.00\n",
      "75%       195,820.25\n",
      "max     2,265,604.00\n",
      "Name: total_income, dtype: float64\n"
     ]
    }
   ],
   "source": [
    "pd.options.display.float_format = '{:,.2f}'.format #Приведем данные по доходу в более читабельный вид\n",
    "print(data_credit_clients['total_income'].describe()) #Получим описание столбца."
   ]
  },
  {
   "cell_type": "code",
   "execution_count": 38,
   "metadata": {
    "scrolled": false
   },
   "outputs": [
    {
     "data": {
      "text/plain": [
       "<matplotlib.axes._subplots.AxesSubplot at 0x7fabf41068d0>"
      ]
     },
     "execution_count": 38,
     "metadata": {},
     "output_type": "execute_result"
    },
    {
     "data": {
      "text/plain": [
       "Text(0.5, 1.0, 'График количество заемщиков по ежемесячному доходу')"
      ]
     },
     "execution_count": 38,
     "metadata": {},
     "output_type": "execute_result"
    },
    {
     "data": {
      "text/plain": [
       "Text(0.5, 0, 'Ежемесячный доход')"
      ]
     },
     "execution_count": 38,
     "metadata": {},
     "output_type": "execute_result"
    },
    {
     "data": {
      "text/plain": [
       "Text(0, 0.5, 'Количество заемщиков')"
      ]
     },
     "execution_count": 38,
     "metadata": {},
     "output_type": "execute_result"
    },
    {
     "data": {
      "image/png": "[encoded data removed]",
      "text/plain": [
       "<Figure size 1008x288 with 1 Axes>"
      ]
     },
     "metadata": {
      "needs_background": "light"
     },
     "output_type": "display_data"
    }
   ],
   "source": [
    "plt.rcParams[\"figure.figsize\"] = (14,4)\n",
    "data_credit_clients['total_income'].hist(bins=150, range=(20000, 2300000))\n",
    "plt.title('График количество заемщиков по ежемесячному доходу')\n",
    "plt.xlabel(\"Ежемесячный доход\")\n",
    "plt.ylabel(\"Количество заемщиков\")"
   ]
  },
  {
   "cell_type": "code",
   "execution_count": 39,
   "metadata": {
    "scrolled": true
   },
   "outputs": [
    {
     "data": {
      "text/plain": [
       "<matplotlib.axes._subplots.AxesSubplot at 0x7fabef83d950>"
      ]
     },
     "execution_count": 39,
     "metadata": {},
     "output_type": "execute_result"
    },
    {
     "data": {
      "text/plain": [
       "Text(0.5, 1.0, 'График количество заемщиков по ежемесячному доходу до 500 тыс.руб.')"
      ]
     },
     "execution_count": 39,
     "metadata": {},
     "output_type": "execute_result"
    },
    {
     "data": {
      "text/plain": [
       "Text(0.5, 0, 'Ежемесячный доход')"
      ]
     },
     "execution_count": 39,
     "metadata": {},
     "output_type": "execute_result"
    },
    {
     "data": {
      "text/plain": [
       "Text(0, 0.5, 'Количество заемщиков')"
      ]
     },
     "execution_count": 39,
     "metadata": {},
     "output_type": "execute_result"
    },
    {
     "data": {
      "image/png": "[encoded data removed]",
      "text/plain": [
       "<Figure size 1008x288 with 1 Axes>"
      ]
     },
     "metadata": {
      "needs_background": "light"
     },
     "output_type": "display_data"
    }
   ],
   "source": [
    "plt.rcParams[\"figure.figsize\"] = (14,4)\n",
    "data_credit_clients['total_income'].hist(bins=50, range=(20000, 500000))\n",
    "plt.title('График количество заемщиков по ежемесячному доходу до 500 тыс.руб.')\n",
    "plt.xlabel(\"Ежемесячный доход\")\n",
    "plt.ylabel(\"Количество заемщиков\")"
   ]
  },
  {
   "cell_type": "markdown",
   "metadata": {},
   "source": [
    "Рассмотрим гистограмму в интервале до 500 000 руб"
   ]
  },
  {
   "cell_type": "code",
   "execution_count": 40,
   "metadata": {
    "scrolled": false
   },
   "outputs": [
    {
     "data": {
      "text/plain": [
       "<matplotlib.axes._subplots.AxesSubplot at 0x7fac2ec32fd0>"
      ]
     },
     "execution_count": 40,
     "metadata": {},
     "output_type": "execute_result"
    },
    {
     "data": {
      "text/plain": [
       "Text(0.5, 1.0, 'График количество заемщиков по ежемесячному доходу до 100 тыс. руб.')"
      ]
     },
     "execution_count": 40,
     "metadata": {},
     "output_type": "execute_result"
    },
    {
     "data": {
      "text/plain": [
       "Text(0.5, 0, 'Ежемесячный доход')"
      ]
     },
     "execution_count": 40,
     "metadata": {},
     "output_type": "execute_result"
    },
    {
     "data": {
      "text/plain": [
       "Text(0, 0.5, 'Количество заемщиков')"
      ]
     },
     "execution_count": 40,
     "metadata": {},
     "output_type": "execute_result"
    },
    {
     "data": {
      "image/png": "[encoded data removed]",
      "text/plain": [
       "<Figure size 1008x288 with 1 Axes>"
      ]
     },
     "metadata": {
      "needs_background": "light"
     },
     "output_type": "display_data"
    }
   ],
   "source": [
    "plt.rcParams[\"figure.figsize\"] = (14,4)\n",
    "data_credit_clients['total_income'].hist(bins=50, range=(20000, 100000))\n",
    "plt.title('График количество заемщиков по ежемесячному доходу до 100 тыс. руб.')\n",
    "plt.xlabel(\"Ежемесячный доход\")\n",
    "plt.ylabel(\"Количество заемщиков\")\n",
    "plt.show()"
   ]
  },
  {
   "cell_type": "markdown",
   "metadata": {},
   "source": [
    "Рассмотрим гистограмму в интервале до 100 000 руб"
   ]
  },
  {
   "cell_type": "markdown",
   "metadata": {},
   "source": [
    "На основе графиков делим уровень дохода заемщиков.    \n",
    "Основное количество данных находится в промежутке от 100 тыс. до 200 тыс. руб. (строго говоря 80-200, но 100 лучше выглядит).   Минимальное количество данных в пределах дохода от 500 тыс и выше. \n",
    "  \n",
    "Выделим четыре категории: \n",
    "- 'до 100 тыс.руб.' - уровень дохода \"начального уровня\", \n",
    "- 'от 101 до 200 тыс.руб.' - уровень дохода \"средний\" и \"средний+\", \n",
    "- 'от 201 до 500 тыс.руб.' - уровень дохода \"высокий\" и \"бонусный\",\n",
    "- 'свыше 500 тыс.руб.' - возможно в качестве заемщика для банка самый желаемый уровень дохода "
   ]
  },
  {
   "cell_type": "markdown",
   "metadata": {},
   "source": [
    "Так же как и с возрастом напищем функцию ранжирования по категориям для дохода"
   ]
  },
  {
   "cell_type": "code",
   "execution_count": 41,
   "metadata": {},
   "outputs": [
    {
     "name": "stdout",
     "output_type": "stream",
     "text": [
      "101-200 тыс.руб.\n",
      "до 100 тыс.руб.\n",
      "свыше 500 тыс.руб.\n"
     ]
    }
   ],
   "source": [
    "def total_inc_group(income): \n",
    "    if income <= 100000:\n",
    "        return 'до 100 тыс.руб.'\n",
    "    if 100000 < income <= 200000:\n",
    "        return '101-200 тыс.руб.'\n",
    "    if 201000 < income <= 500000:\n",
    "        return '201-500 тыс.руб.'    \n",
    "    return 'свыше 500 тыс.руб.'\n",
    "print(total_inc_group(128630)) #Проверка\n",
    "print(total_inc_group(35628)) #Проверка\n",
    "print(total_inc_group(2585310)) #Проверка"
   ]
  },
  {
   "cell_type": "markdown",
   "metadata": {},
   "source": [
    "Создаем новый столбец с категорией заемщиков по доходу"
   ]
  },
  {
   "cell_type": "code",
   "execution_count": 42,
   "metadata": {},
   "outputs": [
    {
     "data": {
      "text/html": [
       "<div>\n",
       "<style scoped>\n",
       "    .dataframe tbody tr th:only-of-type {\n",
       "        vertical-align: middle;\n",
       "    }\n",
       "\n",
       "    .dataframe tbody tr th {\n",
       "        vertical-align: top;\n",
       "    }\n",
       "\n",
       "    .dataframe thead th {\n",
       "        text-align: right;\n",
       "    }\n",
       "</style>\n",
       "<table border=\"1\" class=\"dataframe\">\n",
       "  <thead>\n",
       "    <tr style=\"text-align: right;\">\n",
       "      <th></th>\n",
       "      <th>children</th>\n",
       "      <th>year_employed</th>\n",
       "      <th>dob_years</th>\n",
       "      <th>education</th>\n",
       "      <th>education_id</th>\n",
       "      <th>family_status</th>\n",
       "      <th>family_status_id</th>\n",
       "      <th>gender</th>\n",
       "      <th>income_type</th>\n",
       "      <th>debt</th>\n",
       "      <th>total_income</th>\n",
       "      <th>purpose</th>\n",
       "      <th>dob_years_group</th>\n",
       "      <th>total_income_group</th>\n",
       "    </tr>\n",
       "  </thead>\n",
       "  <tbody>\n",
       "    <tr>\n",
       "      <td>12617</td>\n",
       "      <td>1</td>\n",
       "      <td>4</td>\n",
       "      <td>23</td>\n",
       "      <td>среднее</td>\n",
       "      <td>1</td>\n",
       "      <td>гражданский брак</td>\n",
       "      <td>1</td>\n",
       "      <td>F</td>\n",
       "      <td>сотрудник</td>\n",
       "      <td>0</td>\n",
       "      <td>99812</td>\n",
       "      <td>свадьба</td>\n",
       "      <td>до 25 лет</td>\n",
       "      <td>до 100 тыс.руб.</td>\n",
       "    </tr>\n",
       "    <tr>\n",
       "      <td>2538</td>\n",
       "      <td>1</td>\n",
       "      <td>3</td>\n",
       "      <td>28</td>\n",
       "      <td>среднее</td>\n",
       "      <td>1</td>\n",
       "      <td>в разводе</td>\n",
       "      <td>3</td>\n",
       "      <td>F</td>\n",
       "      <td>сотрудник</td>\n",
       "      <td>0</td>\n",
       "      <td>219567</td>\n",
       "      <td>недвижимость</td>\n",
       "      <td>26-45 лет</td>\n",
       "      <td>201-500 тыс.руб.</td>\n",
       "    </tr>\n",
       "    <tr>\n",
       "      <td>6511</td>\n",
       "      <td>2</td>\n",
       "      <td>4</td>\n",
       "      <td>39</td>\n",
       "      <td>среднее</td>\n",
       "      <td>1</td>\n",
       "      <td>женат / замужем</td>\n",
       "      <td>0</td>\n",
       "      <td>F</td>\n",
       "      <td>сотрудник</td>\n",
       "      <td>0</td>\n",
       "      <td>149847</td>\n",
       "      <td>недвижимость</td>\n",
       "      <td>26-45 лет</td>\n",
       "      <td>101-200 тыс.руб.</td>\n",
       "    </tr>\n",
       "  </tbody>\n",
       "</table>\n",
       "</div>"
      ],
      "text/plain": [
       "       children  year_employed  dob_years education  education_id  \\\n",
       "12617         1              4         23   среднее             1   \n",
       "2538          1              3         28   среднее             1   \n",
       "6511          2              4         39   среднее             1   \n",
       "\n",
       "          family_status  family_status_id gender income_type  debt  \\\n",
       "12617  гражданский брак                 1      F   сотрудник     0   \n",
       "2538          в разводе                 3      F   сотрудник     0   \n",
       "6511    женат / замужем                 0      F   сотрудник     0   \n",
       "\n",
       "       total_income       purpose dob_years_group total_income_group  \n",
       "12617         99812       свадьба       до 25 лет    до 100 тыс.руб.  \n",
       "2538         219567  недвижимость       26-45 лет   201-500 тыс.руб.  \n",
       "6511         149847  недвижимость       26-45 лет   101-200 тыс.руб.  "
      ]
     },
     "execution_count": 42,
     "metadata": {},
     "output_type": "execute_result"
    }
   ],
   "source": [
    "data_credit_clients['total_income_group'] = data_credit_clients['total_income'].apply(total_inc_group) \n",
    "data_credit_clients.sample(3) #Проверка"
   ]
  },
  {
   "cell_type": "markdown",
   "metadata": {},
   "source": [
    "Для поставленой задачи нам достаточно видеть относительные значения по столбцам возраста и дохода - т.е по категориям на которые мы разделили эти данные."
   ]
  },
  {
   "cell_type": "markdown",
   "metadata": {},
   "source": [
    "Выделим читаемые категории задолженности по кредитам - \"долг есть\" / \"долга нет\", и по столбцу \"пол заемщика\""
   ]
  },
  {
   "cell_type": "code",
   "execution_count": 43,
   "metadata": {},
   "outputs": [
    {
     "name": "stdout",
     "output_type": "stream",
     "text": [
      "долга нет\n",
      "долг есть\n"
     ]
    }
   ],
   "source": [
    "#Ранжируем по категориям наличие задолженности\n",
    "def debt_group(number): \n",
    "    if number == 0:\n",
    "        return 'долга нет'\n",
    "    return 'долг есть'\n",
    "print(debt_group(0)) #Проверка\n",
    "print(debt_group(1)) #Проверка"
   ]
  },
  {
   "cell_type": "code",
   "execution_count": 44,
   "metadata": {
    "scrolled": false
   },
   "outputs": [
    {
     "data": {
      "text/html": [
       "<div>\n",
       "<style scoped>\n",
       "    .dataframe tbody tr th:only-of-type {\n",
       "        vertical-align: middle;\n",
       "    }\n",
       "\n",
       "    .dataframe tbody tr th {\n",
       "        vertical-align: top;\n",
       "    }\n",
       "\n",
       "    .dataframe thead th {\n",
       "        text-align: right;\n",
       "    }\n",
       "</style>\n",
       "<table border=\"1\" class=\"dataframe\">\n",
       "  <thead>\n",
       "    <tr style=\"text-align: right;\">\n",
       "      <th></th>\n",
       "      <th>children</th>\n",
       "      <th>year_employed</th>\n",
       "      <th>dob_years</th>\n",
       "      <th>education</th>\n",
       "      <th>education_id</th>\n",
       "      <th>family_status</th>\n",
       "      <th>family_status_id</th>\n",
       "      <th>gender</th>\n",
       "      <th>income_type</th>\n",
       "      <th>debt</th>\n",
       "      <th>total_income</th>\n",
       "      <th>purpose</th>\n",
       "      <th>dob_years_group</th>\n",
       "      <th>total_income_group</th>\n",
       "      <th>debt_group</th>\n",
       "    </tr>\n",
       "  </thead>\n",
       "  <tbody>\n",
       "    <tr>\n",
       "      <td>20893</td>\n",
       "      <td>0</td>\n",
       "      <td>31</td>\n",
       "      <td>50</td>\n",
       "      <td>среднее</td>\n",
       "      <td>1</td>\n",
       "      <td>гражданский брак</td>\n",
       "      <td>1</td>\n",
       "      <td>F</td>\n",
       "      <td>сотрудник</td>\n",
       "      <td>0</td>\n",
       "      <td>173697</td>\n",
       "      <td>свадьба</td>\n",
       "      <td>46-65 лет</td>\n",
       "      <td>101-200 тыс.руб.</td>\n",
       "      <td>долга нет</td>\n",
       "    </tr>\n",
       "    <tr>\n",
       "      <td>11260</td>\n",
       "      <td>0</td>\n",
       "      <td>1082</td>\n",
       "      <td>60</td>\n",
       "      <td>среднее</td>\n",
       "      <td>1</td>\n",
       "      <td>женат / замужем</td>\n",
       "      <td>0</td>\n",
       "      <td>F</td>\n",
       "      <td>пенсионер</td>\n",
       "      <td>0</td>\n",
       "      <td>181321</td>\n",
       "      <td>недвижимость</td>\n",
       "      <td>46-65 лет</td>\n",
       "      <td>101-200 тыс.руб.</td>\n",
       "      <td>долга нет</td>\n",
       "    </tr>\n",
       "  </tbody>\n",
       "</table>\n",
       "</div>"
      ],
      "text/plain": [
       "       children  year_employed  dob_years education  education_id  \\\n",
       "20893         0             31         50   среднее             1   \n",
       "11260         0           1082         60   среднее             1   \n",
       "\n",
       "          family_status  family_status_id gender income_type  debt  \\\n",
       "20893  гражданский брак                 1      F   сотрудник     0   \n",
       "11260   женат / замужем                 0      F   пенсионер     0   \n",
       "\n",
       "       total_income       purpose dob_years_group total_income_group  \\\n",
       "20893        173697       свадьба       46-65 лет   101-200 тыс.руб.   \n",
       "11260        181321  недвижимость       46-65 лет   101-200 тыс.руб.   \n",
       "\n",
       "      debt_group  \n",
       "20893  долга нет  \n",
       "11260  долга нет  "
      ]
     },
     "execution_count": 44,
     "metadata": {},
     "output_type": "execute_result"
    }
   ],
   "source": [
    "#Создаем новый столбец с категорией по задолженности\n",
    "data_credit_clients['debt_group'] = data_credit_clients['debt'].apply(debt_group) \n",
    "data_credit_clients.sample(2) #Проверка"
   ]
  },
  {
   "cell_type": "code",
   "execution_count": 45,
   "metadata": {
    "scrolled": true
   },
   "outputs": [
    {
     "name": "stdout",
     "output_type": "stream",
     "text": [
      "жен\n",
      "муж\n",
      "н/д\n"
     ]
    }
   ],
   "source": [
    "#Ранжируем по категориям пол заемщиков\n",
    "def gender_group(letter): \n",
    "    if letter == 'F':\n",
    "        return 'жен'\n",
    "    if letter == 'XNA':\n",
    "        return 'н/д'\n",
    "    return 'муж'\n",
    "print(gender_group('F')) #Проверка\n",
    "print(gender_group('М')) #Проверка\n",
    "print(gender_group('XNA')) #Проверка"
   ]
  },
  {
   "cell_type": "code",
   "execution_count": 46,
   "metadata": {
    "scrolled": true
   },
   "outputs": [
    {
     "data": {
      "text/html": [
       "<div>\n",
       "<style scoped>\n",
       "    .dataframe tbody tr th:only-of-type {\n",
       "        vertical-align: middle;\n",
       "    }\n",
       "\n",
       "    .dataframe tbody tr th {\n",
       "        vertical-align: top;\n",
       "    }\n",
       "\n",
       "    .dataframe thead th {\n",
       "        text-align: right;\n",
       "    }\n",
       "</style>\n",
       "<table border=\"1\" class=\"dataframe\">\n",
       "  <thead>\n",
       "    <tr style=\"text-align: right;\">\n",
       "      <th></th>\n",
       "      <th>children</th>\n",
       "      <th>year_employed</th>\n",
       "      <th>dob_years</th>\n",
       "      <th>education</th>\n",
       "      <th>education_id</th>\n",
       "      <th>family_status</th>\n",
       "      <th>family_status_id</th>\n",
       "      <th>gender</th>\n",
       "      <th>income_type</th>\n",
       "      <th>debt</th>\n",
       "      <th>total_income</th>\n",
       "      <th>purpose</th>\n",
       "      <th>dob_years_group</th>\n",
       "      <th>total_income_group</th>\n",
       "      <th>debt_group</th>\n",
       "    </tr>\n",
       "  </thead>\n",
       "  <tbody>\n",
       "    <tr>\n",
       "      <td>10684</td>\n",
       "      <td>0</td>\n",
       "      <td>6</td>\n",
       "      <td>24</td>\n",
       "      <td>неоконченное высшее</td>\n",
       "      <td>2</td>\n",
       "      <td>гражданский брак</td>\n",
       "      <td>1</td>\n",
       "      <td>XNA</td>\n",
       "      <td>компаньон</td>\n",
       "      <td>0</td>\n",
       "      <td>203905</td>\n",
       "      <td>недвижимость</td>\n",
       "      <td>до 25 лет</td>\n",
       "      <td>201-500 тыс.руб.</td>\n",
       "      <td>долга нет</td>\n",
       "    </tr>\n",
       "  </tbody>\n",
       "</table>\n",
       "</div>"
      ],
      "text/plain": [
       "       children  year_employed  dob_years            education  education_id  \\\n",
       "10684         0              6         24  неоконченное высшее             2   \n",
       "\n",
       "          family_status  family_status_id gender income_type  debt  \\\n",
       "10684  гражданский брак                 1    XNA   компаньон     0   \n",
       "\n",
       "       total_income       purpose dob_years_group total_income_group  \\\n",
       "10684        203905  недвижимость       до 25 лет   201-500 тыс.руб.   \n",
       "\n",
       "      debt_group  \n",
       "10684  долга нет  "
      ]
     },
     "execution_count": 46,
     "metadata": {},
     "output_type": "execute_result"
    }
   ],
   "source": [
    "gender_XNA = data_credit_clients['gender'] == 'XNA'\n",
    "data_credit_clients.loc[gender_XNA]"
   ]
  },
  {
   "cell_type": "markdown",
   "metadata": {},
   "source": [
    "В данных всего одна запись с неопределенным полом. Причины такой записи могут быть различные - от ошибки до принципиальной позиции заемщика. Так как запись одна из 20 000, ее удаление не скажется на результатах исследования. Приведем таблицу данных к традиционному разбиению по половому признаку - удалим запись с заменой индексации."
   ]
  },
  {
   "cell_type": "code",
   "execution_count": 47,
   "metadata": {},
   "outputs": [
    {
     "data": {
      "text/html": [
       "<div>\n",
       "<style scoped>\n",
       "    .dataframe tbody tr th:only-of-type {\n",
       "        vertical-align: middle;\n",
       "    }\n",
       "\n",
       "    .dataframe tbody tr th {\n",
       "        vertical-align: top;\n",
       "    }\n",
       "\n",
       "    .dataframe thead th {\n",
       "        text-align: right;\n",
       "    }\n",
       "</style>\n",
       "<table border=\"1\" class=\"dataframe\">\n",
       "  <thead>\n",
       "    <tr style=\"text-align: right;\">\n",
       "      <th></th>\n",
       "      <th>children</th>\n",
       "      <th>year_employed</th>\n",
       "      <th>dob_years</th>\n",
       "      <th>education</th>\n",
       "      <th>education_id</th>\n",
       "      <th>family_status</th>\n",
       "      <th>family_status_id</th>\n",
       "      <th>gender</th>\n",
       "      <th>income_type</th>\n",
       "      <th>debt</th>\n",
       "      <th>total_income</th>\n",
       "      <th>purpose</th>\n",
       "      <th>dob_years_group</th>\n",
       "      <th>total_income_group</th>\n",
       "      <th>debt_group</th>\n",
       "    </tr>\n",
       "  </thead>\n",
       "  <tbody>\n",
       "    <tr>\n",
       "      <td>10684</td>\n",
       "      <td>0</td>\n",
       "      <td>1064</td>\n",
       "      <td>60</td>\n",
       "      <td>среднее</td>\n",
       "      <td>1</td>\n",
       "      <td>гражданский брак</td>\n",
       "      <td>1</td>\n",
       "      <td>F</td>\n",
       "      <td>пенсионер</td>\n",
       "      <td>0</td>\n",
       "      <td>108125</td>\n",
       "      <td>свадьба</td>\n",
       "      <td>46-65 лет</td>\n",
       "      <td>101-200 тыс.руб.</td>\n",
       "      <td>долга нет</td>\n",
       "    </tr>\n",
       "  </tbody>\n",
       "</table>\n",
       "</div>"
      ],
      "text/plain": [
       "       children  year_employed  dob_years education  education_id  \\\n",
       "10684         0           1064         60   среднее             1   \n",
       "\n",
       "          family_status  family_status_id gender income_type  debt  \\\n",
       "10684  гражданский брак                 1      F   пенсионер     0   \n",
       "\n",
       "       total_income  purpose dob_years_group total_income_group debt_group  \n",
       "10684        108125  свадьба       46-65 лет   101-200 тыс.руб.  долга нет  "
      ]
     },
     "execution_count": 47,
     "metadata": {},
     "output_type": "execute_result"
    },
    {
     "name": "stdout",
     "output_type": "stream",
     "text": [
      "<class 'pandas.core.frame.DataFrame'>\n",
      "RangeIndex: 21453 entries, 0 to 21452\n",
      "Data columns (total 15 columns):\n",
      "children              21453 non-null int64\n",
      "year_employed         21453 non-null int64\n",
      "dob_years             21453 non-null int64\n",
      "education             21453 non-null object\n",
      "education_id          21453 non-null int64\n",
      "family_status         21453 non-null object\n",
      "family_status_id      21453 non-null int64\n",
      "gender                21453 non-null object\n",
      "income_type           21453 non-null object\n",
      "debt                  21453 non-null int64\n",
      "total_income          21453 non-null int64\n",
      "purpose               21453 non-null object\n",
      "dob_years_group       21453 non-null object\n",
      "total_income_group    21453 non-null object\n",
      "debt_group            21453 non-null object\n",
      "dtypes: int64(7), object(8)\n",
      "memory usage: 2.5+ MB\n"
     ]
    }
   ],
   "source": [
    "data_credit_clients = data_credit_clients.drop([10684]).reset_index(drop=True)\n",
    "data_credit_clients.loc[gender_XNA]\n",
    "data_credit_clients.info()"
   ]
  },
  {
   "cell_type": "markdown",
   "metadata": {},
   "source": [
    "Запись с заемщиком пола \"XNA\" удалена с заменой индексов, записей стало на одну меньше 21453"
   ]
  },
  {
   "cell_type": "markdown",
   "metadata": {},
   "source": [
    "Создаем новый столбец с категорией по полу - заменим существующий"
   ]
  },
  {
   "cell_type": "code",
   "execution_count": 48,
   "metadata": {
    "scrolled": false
   },
   "outputs": [
    {
     "data": {
      "text/html": [
       "<div>\n",
       "<style scoped>\n",
       "    .dataframe tbody tr th:only-of-type {\n",
       "        vertical-align: middle;\n",
       "    }\n",
       "\n",
       "    .dataframe tbody tr th {\n",
       "        vertical-align: top;\n",
       "    }\n",
       "\n",
       "    .dataframe thead th {\n",
       "        text-align: right;\n",
       "    }\n",
       "</style>\n",
       "<table border=\"1\" class=\"dataframe\">\n",
       "  <thead>\n",
       "    <tr style=\"text-align: right;\">\n",
       "      <th></th>\n",
       "      <th>children</th>\n",
       "      <th>year_employed</th>\n",
       "      <th>dob_years</th>\n",
       "      <th>education</th>\n",
       "      <th>education_id</th>\n",
       "      <th>family_status</th>\n",
       "      <th>family_status_id</th>\n",
       "      <th>income_type</th>\n",
       "      <th>debt</th>\n",
       "      <th>total_income</th>\n",
       "      <th>purpose</th>\n",
       "      <th>dob_years_group</th>\n",
       "      <th>total_income_group</th>\n",
       "      <th>debt_group</th>\n",
       "      <th>gender_group</th>\n",
       "    </tr>\n",
       "  </thead>\n",
       "  <tbody>\n",
       "    <tr>\n",
       "      <td>11120</td>\n",
       "      <td>0</td>\n",
       "      <td>0</td>\n",
       "      <td>57</td>\n",
       "      <td>среднее</td>\n",
       "      <td>1</td>\n",
       "      <td>женат / замужем</td>\n",
       "      <td>0</td>\n",
       "      <td>пенсионер</td>\n",
       "      <td>0</td>\n",
       "      <td>118514</td>\n",
       "      <td>недвижимость</td>\n",
       "      <td>46-65 лет</td>\n",
       "      <td>101-200 тыс.руб.</td>\n",
       "      <td>долга нет</td>\n",
       "      <td>жен</td>\n",
       "    </tr>\n",
       "    <tr>\n",
       "      <td>4525</td>\n",
       "      <td>1</td>\n",
       "      <td>3</td>\n",
       "      <td>34</td>\n",
       "      <td>среднее</td>\n",
       "      <td>1</td>\n",
       "      <td>женат / замужем</td>\n",
       "      <td>0</td>\n",
       "      <td>сотрудник</td>\n",
       "      <td>0</td>\n",
       "      <td>198060</td>\n",
       "      <td>недвижимость</td>\n",
       "      <td>26-45 лет</td>\n",
       "      <td>101-200 тыс.руб.</td>\n",
       "      <td>долга нет</td>\n",
       "      <td>муж</td>\n",
       "    </tr>\n",
       "    <tr>\n",
       "      <td>12962</td>\n",
       "      <td>0</td>\n",
       "      <td>964</td>\n",
       "      <td>59</td>\n",
       "      <td>среднее</td>\n",
       "      <td>1</td>\n",
       "      <td>женат / замужем</td>\n",
       "      <td>0</td>\n",
       "      <td>пенсионер</td>\n",
       "      <td>0</td>\n",
       "      <td>75514</td>\n",
       "      <td>автомобиль</td>\n",
       "      <td>46-65 лет</td>\n",
       "      <td>до 100 тыс.руб.</td>\n",
       "      <td>долга нет</td>\n",
       "      <td>жен</td>\n",
       "    </tr>\n",
       "  </tbody>\n",
       "</table>\n",
       "</div>"
      ],
      "text/plain": [
       "       children  year_employed  dob_years education  education_id  \\\n",
       "11120         0              0         57   среднее             1   \n",
       "4525          1              3         34   среднее             1   \n",
       "12962         0            964         59   среднее             1   \n",
       "\n",
       "         family_status  family_status_id income_type  debt  total_income  \\\n",
       "11120  женат / замужем                 0   пенсионер     0        118514   \n",
       "4525   женат / замужем                 0   сотрудник     0        198060   \n",
       "12962  женат / замужем                 0   пенсионер     0         75514   \n",
       "\n",
       "            purpose dob_years_group total_income_group debt_group gender_group  \n",
       "11120  недвижимость       46-65 лет   101-200 тыс.руб.  долга нет          жен  \n",
       "4525   недвижимость       26-45 лет   101-200 тыс.руб.  долга нет          муж  \n",
       "12962    автомобиль       46-65 лет    до 100 тыс.руб.  долга нет          жен  "
      ]
     },
     "execution_count": 48,
     "metadata": {},
     "output_type": "execute_result"
    }
   ],
   "source": [
    "data_credit_clients['gender_group'] = data_credit_clients['gender'].apply(gender_group)\n",
    "data_credit_clients.drop(['gender'], axis = 'columns', inplace=True)\n",
    "data_credit_clients.sample(3) #Проверка"
   ]
  },
  {
   "cell_type": "markdown",
   "metadata": {},
   "source": [
    "Формируем новую таблицу для анализа, убираем ненужные столбцы путем реактирования списка столбцов"
   ]
  },
  {
   "cell_type": "code",
   "execution_count": 49,
   "metadata": {
    "scrolled": true
   },
   "outputs": [
    {
     "name": "stdout",
     "output_type": "stream",
     "text": [
      "Список столбцов текущей таблицы:\n",
      "['children', 'year_employed', 'dob_years', 'education', 'education_id', 'family_status', 'family_status_id', 'income_type', 'debt', 'total_income', 'purpose', 'dob_years_group', 'total_income_group', 'debt_group', 'gender_group']\n"
     ]
    }
   ],
   "source": [
    "cols_data = data_credit_clients.columns.tolist()\n",
    "print('Список столбцов текущей таблицы:')\n",
    "print(cols_data)"
   ]
  },
  {
   "cell_type": "code",
   "execution_count": 50,
   "metadata": {
    "scrolled": true
   },
   "outputs": [
    {
     "data": {
      "text/html": [
       "<div>\n",
       "<style scoped>\n",
       "    .dataframe tbody tr th:only-of-type {\n",
       "        vertical-align: middle;\n",
       "    }\n",
       "\n",
       "    .dataframe tbody tr th {\n",
       "        vertical-align: top;\n",
       "    }\n",
       "\n",
       "    .dataframe thead th {\n",
       "        text-align: right;\n",
       "    }\n",
       "</style>\n",
       "<table border=\"1\" class=\"dataframe\">\n",
       "  <thead>\n",
       "    <tr style=\"text-align: right;\">\n",
       "      <th></th>\n",
       "      <th>children</th>\n",
       "      <th>dob_years</th>\n",
       "      <th>dob_years_group</th>\n",
       "      <th>education</th>\n",
       "      <th>education_id</th>\n",
       "      <th>family_status</th>\n",
       "      <th>family_status_id</th>\n",
       "      <th>gender_group</th>\n",
       "      <th>income_type</th>\n",
       "      <th>debt</th>\n",
       "      <th>debt_group</th>\n",
       "      <th>total_income</th>\n",
       "      <th>total_income_group</th>\n",
       "      <th>purpose</th>\n",
       "    </tr>\n",
       "  </thead>\n",
       "  <tbody>\n",
       "    <tr>\n",
       "      <td>16478</td>\n",
       "      <td>2</td>\n",
       "      <td>47</td>\n",
       "      <td>46-65 лет</td>\n",
       "      <td>высшее</td>\n",
       "      <td>0</td>\n",
       "      <td>женат / замужем</td>\n",
       "      <td>0</td>\n",
       "      <td>муж</td>\n",
       "      <td>компаньон</td>\n",
       "      <td>0</td>\n",
       "      <td>долга нет</td>\n",
       "      <td>409184</td>\n",
       "      <td>201-500 тыс.руб.</td>\n",
       "      <td>автомобиль</td>\n",
       "    </tr>\n",
       "    <tr>\n",
       "      <td>5933</td>\n",
       "      <td>0</td>\n",
       "      <td>51</td>\n",
       "      <td>46-65 лет</td>\n",
       "      <td>среднее</td>\n",
       "      <td>1</td>\n",
       "      <td>в разводе</td>\n",
       "      <td>3</td>\n",
       "      <td>жен</td>\n",
       "      <td>компаньон</td>\n",
       "      <td>0</td>\n",
       "      <td>долга нет</td>\n",
       "      <td>172357</td>\n",
       "      <td>101-200 тыс.руб.</td>\n",
       "      <td>недвижимость</td>\n",
       "    </tr>\n",
       "    <tr>\n",
       "      <td>14320</td>\n",
       "      <td>0</td>\n",
       "      <td>66</td>\n",
       "      <td>старше 65 лет</td>\n",
       "      <td>среднее</td>\n",
       "      <td>1</td>\n",
       "      <td>женат / замужем</td>\n",
       "      <td>0</td>\n",
       "      <td>жен</td>\n",
       "      <td>пенсионер</td>\n",
       "      <td>0</td>\n",
       "      <td>долга нет</td>\n",
       "      <td>262010</td>\n",
       "      <td>201-500 тыс.руб.</td>\n",
       "      <td>образование</td>\n",
       "    </tr>\n",
       "  </tbody>\n",
       "</table>\n",
       "</div>"
      ],
      "text/plain": [
       "       children  dob_years dob_years_group education  education_id  \\\n",
       "16478         2         47       46-65 лет    высшее             0   \n",
       "5933          0         51       46-65 лет   среднее             1   \n",
       "14320         0         66   старше 65 лет   среднее             1   \n",
       "\n",
       "         family_status  family_status_id gender_group income_type  debt  \\\n",
       "16478  женат / замужем                 0          муж   компаньон     0   \n",
       "5933         в разводе                 3          жен   компаньон     0   \n",
       "14320  женат / замужем                 0          жен   пенсионер     0   \n",
       "\n",
       "      debt_group  total_income total_income_group       purpose  \n",
       "16478  долга нет        409184   201-500 тыс.руб.    автомобиль  \n",
       "5933   долга нет        172357   101-200 тыс.руб.  недвижимость  \n",
       "14320  долга нет        262010   201-500 тыс.руб.   образование  "
      ]
     },
     "execution_count": 50,
     "metadata": {},
     "output_type": "execute_result"
    }
   ],
   "source": [
    "cols_data_final = ['children', 'dob_years', 'dob_years_group', 'education', 'education_id', \n",
    "                      'family_status', 'family_status_id', 'gender_group', 'income_type', 'debt', 'debt_group', \n",
    "                      'total_income', 'total_income_group', 'purpose'] #Список столбцов новой таблицы\n",
    "data_credit_clients = data_credit_clients[cols_data_final] \n",
    "data_credit_clients.sample(3)"
   ]
  },
  {
   "cell_type": "markdown",
   "metadata": {},
   "source": [
    "### Вывод"
   ]
  },
  {
   "cell_type": "markdown",
   "metadata": {},
   "source": [
    "- Сформирована итоговая таблица. \n",
    "- Проведена категоризация данных рассматриваемых по условию задачи - данные приведены в читаемый формат не требующий дополнительных пояснений. \n",
    "- Оставили численные показатели по некоторым категориям - они нам понадобится для проведения анализа."
   ]
  },
  {
   "cell_type": "markdown",
   "metadata": {},
   "source": [
    "### Шаг 3. Ответьте на вопросы"
   ]
  },
  {
   "cell_type": "markdown",
   "metadata": {},
   "source": [
    "#### - Есть ли зависимость между наличием детей и возвратом кредита в срок?"
   ]
  },
  {
   "cell_type": "code",
   "execution_count": 51,
   "metadata": {},
   "outputs": [
    {
     "name": "stdout",
     "output_type": "stream",
     "text": [
      "Распределение задолженности\n",
      "долга нет    19712\n",
      "долг есть     1741\n",
      "Name: debt_group, dtype: int64\n"
     ]
    }
   ],
   "source": [
    "print('Распределение задолженности')\n",
    "print(data_credit_clients['debt_group'].value_counts())"
   ]
  },
  {
   "cell_type": "code",
   "execution_count": 52,
   "metadata": {},
   "outputs": [
    {
     "data": {
      "text/plain": [
       "'Общий процент заемщиков имеющих задолженность 8.83%'"
      ]
     },
     "execution_count": 52,
     "metadata": {},
     "output_type": "execute_result"
    }
   ],
   "source": [
    "'Общий процент заемщиков имеющих задолженность {:.2%}'.format(1741/19709)"
   ]
  },
  {
   "cell_type": "markdown",
   "metadata": {},
   "source": [
    "Выделим переменные для двух групп заемщиков - у которых есть задолженнность и нет задолженности"
   ]
  },
  {
   "cell_type": "code",
   "execution_count": 53,
   "metadata": {},
   "outputs": [
    {
     "data": {
      "text/html": [
       "<div>\n",
       "<style scoped>\n",
       "    .dataframe tbody tr th:only-of-type {\n",
       "        vertical-align: middle;\n",
       "    }\n",
       "\n",
       "    .dataframe tbody tr th {\n",
       "        vertical-align: top;\n",
       "    }\n",
       "\n",
       "    .dataframe thead th {\n",
       "        text-align: right;\n",
       "    }\n",
       "</style>\n",
       "<table border=\"1\" class=\"dataframe\">\n",
       "  <thead>\n",
       "    <tr style=\"text-align: right;\">\n",
       "      <th></th>\n",
       "      <th>children</th>\n",
       "      <th>dob_years</th>\n",
       "      <th>dob_years_group</th>\n",
       "      <th>education</th>\n",
       "      <th>education_id</th>\n",
       "      <th>family_status</th>\n",
       "      <th>family_status_id</th>\n",
       "      <th>gender_group</th>\n",
       "      <th>income_type</th>\n",
       "      <th>debt</th>\n",
       "      <th>debt_group</th>\n",
       "      <th>total_income</th>\n",
       "      <th>total_income_group</th>\n",
       "      <th>purpose</th>\n",
       "    </tr>\n",
       "  </thead>\n",
       "  <tbody>\n",
       "    <tr>\n",
       "      <td>11540</td>\n",
       "      <td>0</td>\n",
       "      <td>34</td>\n",
       "      <td>26-45 лет</td>\n",
       "      <td>среднее</td>\n",
       "      <td>1</td>\n",
       "      <td>женат / замужем</td>\n",
       "      <td>0</td>\n",
       "      <td>жен</td>\n",
       "      <td>сотрудник</td>\n",
       "      <td>0</td>\n",
       "      <td>долга нет</td>\n",
       "      <td>215842</td>\n",
       "      <td>201-500 тыс.руб.</td>\n",
       "      <td>автомобиль</td>\n",
       "    </tr>\n",
       "    <tr>\n",
       "      <td>18997</td>\n",
       "      <td>0</td>\n",
       "      <td>26</td>\n",
       "      <td>26-45 лет</td>\n",
       "      <td>неоконченное высшее</td>\n",
       "      <td>2</td>\n",
       "      <td>не женат / не замужем</td>\n",
       "      <td>4</td>\n",
       "      <td>жен</td>\n",
       "      <td>сотрудник</td>\n",
       "      <td>0</td>\n",
       "      <td>долга нет</td>\n",
       "      <td>157597</td>\n",
       "      <td>101-200 тыс.руб.</td>\n",
       "      <td>недвижимость</td>\n",
       "    </tr>\n",
       "  </tbody>\n",
       "</table>\n",
       "</div>"
      ],
      "text/plain": [
       "       children  dob_years dob_years_group            education  education_id  \\\n",
       "11540         0         34       26-45 лет              среднее             1   \n",
       "18997         0         26       26-45 лет  неоконченное высшее             2   \n",
       "\n",
       "               family_status  family_status_id gender_group income_type  debt  \\\n",
       "11540        женат / замужем                 0          жен   сотрудник     0   \n",
       "18997  не женат / не замужем                 4          жен   сотрудник     0   \n",
       "\n",
       "      debt_group  total_income total_income_group       purpose  \n",
       "11540  долга нет        215842   201-500 тыс.руб.    автомобиль  \n",
       "18997  долга нет        157597   101-200 тыс.руб.  недвижимость  "
      ]
     },
     "execution_count": 53,
     "metadata": {},
     "output_type": "execute_result"
    },
    {
     "data": {
      "text/html": [
       "<div>\n",
       "<style scoped>\n",
       "    .dataframe tbody tr th:only-of-type {\n",
       "        vertical-align: middle;\n",
       "    }\n",
       "\n",
       "    .dataframe tbody tr th {\n",
       "        vertical-align: top;\n",
       "    }\n",
       "\n",
       "    .dataframe thead th {\n",
       "        text-align: right;\n",
       "    }\n",
       "</style>\n",
       "<table border=\"1\" class=\"dataframe\">\n",
       "  <thead>\n",
       "    <tr style=\"text-align: right;\">\n",
       "      <th></th>\n",
       "      <th>children</th>\n",
       "      <th>dob_years</th>\n",
       "      <th>dob_years_group</th>\n",
       "      <th>education</th>\n",
       "      <th>education_id</th>\n",
       "      <th>family_status</th>\n",
       "      <th>family_status_id</th>\n",
       "      <th>gender_group</th>\n",
       "      <th>income_type</th>\n",
       "      <th>debt</th>\n",
       "      <th>debt_group</th>\n",
       "      <th>total_income</th>\n",
       "      <th>total_income_group</th>\n",
       "      <th>purpose</th>\n",
       "    </tr>\n",
       "  </thead>\n",
       "  <tbody>\n",
       "    <tr>\n",
       "      <td>218</td>\n",
       "      <td>1</td>\n",
       "      <td>34</td>\n",
       "      <td>26-45 лет</td>\n",
       "      <td>среднее</td>\n",
       "      <td>1</td>\n",
       "      <td>женат / замужем</td>\n",
       "      <td>0</td>\n",
       "      <td>жен</td>\n",
       "      <td>сотрудник</td>\n",
       "      <td>1</td>\n",
       "      <td>долг есть</td>\n",
       "      <td>213214</td>\n",
       "      <td>201-500 тыс.руб.</td>\n",
       "      <td>автомобиль</td>\n",
       "    </tr>\n",
       "    <tr>\n",
       "      <td>13989</td>\n",
       "      <td>0</td>\n",
       "      <td>50</td>\n",
       "      <td>46-65 лет</td>\n",
       "      <td>высшее</td>\n",
       "      <td>0</td>\n",
       "      <td>женат / замужем</td>\n",
       "      <td>0</td>\n",
       "      <td>муж</td>\n",
       "      <td>госслужащий</td>\n",
       "      <td>1</td>\n",
       "      <td>долг есть</td>\n",
       "      <td>185080</td>\n",
       "      <td>101-200 тыс.руб.</td>\n",
       "      <td>недвижимость</td>\n",
       "    </tr>\n",
       "  </tbody>\n",
       "</table>\n",
       "</div>"
      ],
      "text/plain": [
       "       children  dob_years dob_years_group education  education_id  \\\n",
       "218           1         34       26-45 лет   среднее             1   \n",
       "13989         0         50       46-65 лет    высшее             0   \n",
       "\n",
       "         family_status  family_status_id gender_group  income_type  debt  \\\n",
       "218    женат / замужем                 0          жен    сотрудник     1   \n",
       "13989  женат / замужем                 0          муж  госслужащий     1   \n",
       "\n",
       "      debt_group  total_income total_income_group       purpose  \n",
       "218    долг есть        213214   201-500 тыс.руб.    автомобиль  \n",
       "13989  долг есть        185080   101-200 тыс.руб.  недвижимость  "
      ]
     },
     "execution_count": 53,
     "metadata": {},
     "output_type": "execute_result"
    }
   ],
   "source": [
    "data_debt_no = data_credit_clients['debt'] == 0 #Нет задолженности\n",
    "data_debt_yes = data_credit_clients['debt'] != 0 #Есть задолженности\n",
    "data_credit_clients.loc[data_debt_no].sample(2)\n",
    "data_credit_clients.loc[data_debt_yes].sample(2)"
   ]
  },
  {
   "cell_type": "markdown",
   "metadata": {},
   "source": [
    "Проверим распределение состояния заемщиков \"долг есть / долга нет\" по категории \"дети\" "
   ]
  },
  {
   "cell_type": "code",
   "execution_count": 54,
   "metadata": {},
   "outputs": [
    {
     "data": {
      "text/html": [
       "<div>\n",
       "<style scoped>\n",
       "    .dataframe tbody tr th:only-of-type {\n",
       "        vertical-align: middle;\n",
       "    }\n",
       "\n",
       "    .dataframe tbody tr th {\n",
       "        vertical-align: top;\n",
       "    }\n",
       "\n",
       "    .dataframe thead th {\n",
       "        text-align: right;\n",
       "    }\n",
       "</style>\n",
       "<table border=\"1\" class=\"dataframe\">\n",
       "  <thead>\n",
       "    <tr style=\"text-align: right;\">\n",
       "      <th></th>\n",
       "      <th></th>\n",
       "      <th>count</th>\n",
       "    </tr>\n",
       "    <tr>\n",
       "      <th>children</th>\n",
       "      <th>debt_group</th>\n",
       "      <th></th>\n",
       "    </tr>\n",
       "  </thead>\n",
       "  <tbody>\n",
       "    <tr>\n",
       "      <td rowspan=\"2\" valign=\"top\">0</td>\n",
       "      <td>долг есть</td>\n",
       "      <td>1063</td>\n",
       "    </tr>\n",
       "    <tr>\n",
       "      <td>долга нет</td>\n",
       "      <td>13027</td>\n",
       "    </tr>\n",
       "    <tr>\n",
       "      <td rowspan=\"2\" valign=\"top\">1</td>\n",
       "      <td>долг есть</td>\n",
       "      <td>445</td>\n",
       "    </tr>\n",
       "    <tr>\n",
       "      <td>долга нет</td>\n",
       "      <td>4410</td>\n",
       "    </tr>\n",
       "    <tr>\n",
       "      <td rowspan=\"2\" valign=\"top\">2</td>\n",
       "      <td>долг есть</td>\n",
       "      <td>194</td>\n",
       "    </tr>\n",
       "    <tr>\n",
       "      <td>долга нет</td>\n",
       "      <td>1858</td>\n",
       "    </tr>\n",
       "    <tr>\n",
       "      <td rowspan=\"2\" valign=\"top\">3</td>\n",
       "      <td>долг есть</td>\n",
       "      <td>27</td>\n",
       "    </tr>\n",
       "    <tr>\n",
       "      <td>долга нет</td>\n",
       "      <td>303</td>\n",
       "    </tr>\n",
       "    <tr>\n",
       "      <td rowspan=\"2\" valign=\"top\">4</td>\n",
       "      <td>долг есть</td>\n",
       "      <td>4</td>\n",
       "    </tr>\n",
       "    <tr>\n",
       "      <td>долга нет</td>\n",
       "      <td>37</td>\n",
       "    </tr>\n",
       "    <tr>\n",
       "      <td>5</td>\n",
       "      <td>долга нет</td>\n",
       "      <td>9</td>\n",
       "    </tr>\n",
       "    <tr>\n",
       "      <td rowspan=\"2\" valign=\"top\">20</td>\n",
       "      <td>долг есть</td>\n",
       "      <td>8</td>\n",
       "    </tr>\n",
       "    <tr>\n",
       "      <td>долга нет</td>\n",
       "      <td>68</td>\n",
       "    </tr>\n",
       "  </tbody>\n",
       "</table>\n",
       "</div>"
      ],
      "text/plain": [
       "                     count\n",
       "children debt_group       \n",
       "0        долг есть    1063\n",
       "         долга нет   13027\n",
       "1        долг есть     445\n",
       "         долга нет    4410\n",
       "2        долг есть     194\n",
       "         долга нет    1858\n",
       "3        долг есть      27\n",
       "         долга нет     303\n",
       "4        долг есть       4\n",
       "         долга нет      37\n",
       "5        долга нет       9\n",
       "20       долг есть       8\n",
       "         долга нет      68"
      ]
     },
     "execution_count": 54,
     "metadata": {},
     "output_type": "execute_result"
    }
   ],
   "source": [
    "child_vs_debt = data_credit_clients.groupby(['children','debt_group'])['debt_group'] \\\n",
    "            .agg(['count']).sort_values(by='children', ascending=True)\n",
    "child_vs_debt"
   ]
  },
  {
   "cell_type": "markdown",
   "metadata": {},
   "source": [
    "Заемщиков с детьми примерно в два раза больше чем детей не имеющих. По сути логично - траты и потребности увеличиваются с увеличением семьи и обязательств.   \n",
    "Выделяется часть заемщиком с количеством детей = 5. Тут нет долгов по кредиту. Но и количество таких заемщиков - 9 челоек. На фоне общего числа записей (более 20 тыс.) это незначительная погрешность (антивыброс).\n",
    "В первом приближении процент заемщиков имеющих задолженность по кредиту, с детьми или нет, не сильно отличается.   \n",
    "Выясним таким образом: по столбцу 'debt' - значение \"1\" означает наличие задолжености, т.е. если найти среднее значение по столбцу 'debt' получим соотнощение задолженностей по кредиту к общему количеству выданных кредитов "
   ]
  },
  {
   "cell_type": "code",
   "execution_count": 55,
   "metadata": {},
   "outputs": [
    {
     "name": "stdout",
     "output_type": "stream",
     "text": [
      "Процент задолженности по кредитам в зависимости от количества детей\n"
     ]
    },
    {
     "data": {
      "text/html": [
       "<div>\n",
       "<style scoped>\n",
       "    .dataframe tbody tr th:only-of-type {\n",
       "        vertical-align: middle;\n",
       "    }\n",
       "\n",
       "    .dataframe tbody tr th {\n",
       "        vertical-align: top;\n",
       "    }\n",
       "\n",
       "    .dataframe thead tr th {\n",
       "        text-align: left;\n",
       "    }\n",
       "\n",
       "    .dataframe thead tr:last-of-type th {\n",
       "        text-align: right;\n",
       "    }\n",
       "</style>\n",
       "<table border=\"1\" class=\"dataframe\">\n",
       "  <thead>\n",
       "    <tr>\n",
       "      <th></th>\n",
       "      <th>debt</th>\n",
       "    </tr>\n",
       "    <tr>\n",
       "      <th></th>\n",
       "      <th>mean</th>\n",
       "    </tr>\n",
       "    <tr>\n",
       "      <th>children</th>\n",
       "      <th></th>\n",
       "    </tr>\n",
       "  </thead>\n",
       "  <tbody>\n",
       "    <tr>\n",
       "      <td>5</td>\n",
       "      <td>0.0%</td>\n",
       "    </tr>\n",
       "    <tr>\n",
       "      <td>0</td>\n",
       "      <td>7.5%</td>\n",
       "    </tr>\n",
       "    <tr>\n",
       "      <td>3</td>\n",
       "      <td>8.2%</td>\n",
       "    </tr>\n",
       "    <tr>\n",
       "      <td>1</td>\n",
       "      <td>9.2%</td>\n",
       "    </tr>\n",
       "    <tr>\n",
       "      <td>2</td>\n",
       "      <td>9.5%</td>\n",
       "    </tr>\n",
       "    <tr>\n",
       "      <td>4</td>\n",
       "      <td>9.8%</td>\n",
       "    </tr>\n",
       "    <tr>\n",
       "      <td>20</td>\n",
       "      <td>10.5%</td>\n",
       "    </tr>\n",
       "  </tbody>\n",
       "</table>\n",
       "</div>"
      ],
      "text/plain": [
       "          debt\n",
       "          mean\n",
       "children      \n",
       "5         0.0%\n",
       "0         7.5%\n",
       "3         8.2%\n",
       "1         9.2%\n",
       "2         9.5%\n",
       "4         9.8%\n",
       "20       10.5%"
      ]
     },
     "execution_count": 55,
     "metadata": {},
     "output_type": "execute_result"
    }
   ],
   "source": [
    "pd.options.display.float_format = '{:.1%}'.format #зададим формат вывода в процентах.\n",
    "print('Процент задолженности по кредитам в зависимости от количества детей')\n",
    "data_credit_clients.groupby('children').agg({'debt':['mean']}).sort_values(by=[('debt','mean')])"
   ]
  },
  {
   "cell_type": "markdown",
   "metadata": {},
   "source": [
    "### Вывод"
   ]
  },
  {
   "cell_type": "markdown",
   "metadata": {},
   "source": [
    "Заемщиков без детей примерно вдвое больше чем тех у кого дети есть.    \n",
    "Процент заемщиков без детей имеющих задолженности по выплате кредита - 7,5%   \n",
    "Процент заемщиков с детьми имеющих задолженности по выплате кредита - 8,2% - 10,5%  \n",
    "В зависимости от количества детей % заемщиков с задолженностями колеблется в пределах 2%.   \n",
    "При этом меньше всего должников среди заемщиков с тремя детьми - 8,2%, если детей 1, 2, 4 или 20 -  таких должников 9-10%   \n",
    "Выбиваются из статистики данные по заемщикам с 5 детьми - там нет задолженностей. Но так как таких всего 9 - это не показательная статистика и она не будет учитываться в выводах.\n",
    "\n",
    "- #### Можно говорить о том что количество детей мало влияет на возврат кредита в срок. Но формально заемщики без детей более дисциплинированы. "
   ]
  },
  {
   "cell_type": "markdown",
   "metadata": {},
   "source": [
    "- #### Есть ли зависимость между семейным положением и возвратом кредита в срок?"
   ]
  },
  {
   "cell_type": "markdown",
   "metadata": {},
   "source": [
    "Проверим распределение состояния заемщиков \"долг есть / долга нет\" по категории \"семейное положение\" "
   ]
  },
  {
   "cell_type": "code",
   "execution_count": 56,
   "metadata": {
    "scrolled": true
   },
   "outputs": [
    {
     "data": {
      "text/html": [
       "<div>\n",
       "<style scoped>\n",
       "    .dataframe tbody tr th:only-of-type {\n",
       "        vertical-align: middle;\n",
       "    }\n",
       "\n",
       "    .dataframe tbody tr th {\n",
       "        vertical-align: top;\n",
       "    }\n",
       "\n",
       "    .dataframe thead th {\n",
       "        text-align: right;\n",
       "    }\n",
       "</style>\n",
       "<table border=\"1\" class=\"dataframe\">\n",
       "  <thead>\n",
       "    <tr style=\"text-align: right;\">\n",
       "      <th></th>\n",
       "      <th></th>\n",
       "      <th>count</th>\n",
       "    </tr>\n",
       "    <tr>\n",
       "      <th>family_status</th>\n",
       "      <th>debt_group</th>\n",
       "      <th></th>\n",
       "    </tr>\n",
       "  </thead>\n",
       "  <tbody>\n",
       "    <tr>\n",
       "      <td rowspan=\"2\" valign=\"top\">в разводе</td>\n",
       "      <td>долг есть</td>\n",
       "      <td>85</td>\n",
       "    </tr>\n",
       "    <tr>\n",
       "      <td>долга нет</td>\n",
       "      <td>1110</td>\n",
       "    </tr>\n",
       "    <tr>\n",
       "      <td rowspan=\"2\" valign=\"top\">вдовец / вдова</td>\n",
       "      <td>долг есть</td>\n",
       "      <td>63</td>\n",
       "    </tr>\n",
       "    <tr>\n",
       "      <td>долга нет</td>\n",
       "      <td>896</td>\n",
       "    </tr>\n",
       "    <tr>\n",
       "      <td rowspan=\"2\" valign=\"top\">гражданский брак</td>\n",
       "      <td>долг есть</td>\n",
       "      <td>388</td>\n",
       "    </tr>\n",
       "    <tr>\n",
       "      <td>долга нет</td>\n",
       "      <td>3762</td>\n",
       "    </tr>\n",
       "    <tr>\n",
       "      <td rowspan=\"2\" valign=\"top\">женат / замужем</td>\n",
       "      <td>долг есть</td>\n",
       "      <td>931</td>\n",
       "    </tr>\n",
       "    <tr>\n",
       "      <td>долга нет</td>\n",
       "      <td>11408</td>\n",
       "    </tr>\n",
       "    <tr>\n",
       "      <td rowspan=\"2\" valign=\"top\">не женат / не замужем</td>\n",
       "      <td>долг есть</td>\n",
       "      <td>274</td>\n",
       "    </tr>\n",
       "    <tr>\n",
       "      <td>долга нет</td>\n",
       "      <td>2536</td>\n",
       "    </tr>\n",
       "  </tbody>\n",
       "</table>\n",
       "</div>"
      ],
      "text/plain": [
       "                                  count\n",
       "family_status         debt_group       \n",
       "в разводе             долг есть      85\n",
       "                      долга нет    1110\n",
       "вдовец / вдова        долг есть      63\n",
       "                      долга нет     896\n",
       "гражданский брак      долг есть     388\n",
       "                      долга нет    3762\n",
       "женат / замужем       долг есть     931\n",
       "                      долга нет   11408\n",
       "не женат / не замужем долг есть     274\n",
       "                      долга нет    2536"
      ]
     },
     "execution_count": 56,
     "metadata": {},
     "output_type": "execute_result"
    }
   ],
   "source": [
    "data_credit_clients.groupby(['family_status', 'debt_group'])['debt_group'].agg(['count'])"
   ]
  },
  {
   "cell_type": "code",
   "execution_count": 57,
   "metadata": {},
   "outputs": [
    {
     "name": "stdout",
     "output_type": "stream",
     "text": [
      "Процент задолженности по кредитам в зависимости от семейного положения\n"
     ]
    },
    {
     "data": {
      "text/html": [
       "<div>\n",
       "<style scoped>\n",
       "    .dataframe tbody tr th:only-of-type {\n",
       "        vertical-align: middle;\n",
       "    }\n",
       "\n",
       "    .dataframe tbody tr th {\n",
       "        vertical-align: top;\n",
       "    }\n",
       "\n",
       "    .dataframe thead tr th {\n",
       "        text-align: left;\n",
       "    }\n",
       "\n",
       "    .dataframe thead tr:last-of-type th {\n",
       "        text-align: right;\n",
       "    }\n",
       "</style>\n",
       "<table border=\"1\" class=\"dataframe\">\n",
       "  <thead>\n",
       "    <tr>\n",
       "      <th></th>\n",
       "      <th>debt</th>\n",
       "    </tr>\n",
       "    <tr>\n",
       "      <th></th>\n",
       "      <th>mean</th>\n",
       "    </tr>\n",
       "    <tr>\n",
       "      <th>family_status</th>\n",
       "      <th></th>\n",
       "    </tr>\n",
       "  </thead>\n",
       "  <tbody>\n",
       "    <tr>\n",
       "      <td>вдовец / вдова</td>\n",
       "      <td>6.6%</td>\n",
       "    </tr>\n",
       "    <tr>\n",
       "      <td>в разводе</td>\n",
       "      <td>7.1%</td>\n",
       "    </tr>\n",
       "    <tr>\n",
       "      <td>женат / замужем</td>\n",
       "      <td>7.5%</td>\n",
       "    </tr>\n",
       "    <tr>\n",
       "      <td>гражданский брак</td>\n",
       "      <td>9.3%</td>\n",
       "    </tr>\n",
       "    <tr>\n",
       "      <td>не женат / не замужем</td>\n",
       "      <td>9.8%</td>\n",
       "    </tr>\n",
       "  </tbody>\n",
       "</table>\n",
       "</div>"
      ],
      "text/plain": [
       "                      debt\n",
       "                      mean\n",
       "family_status             \n",
       "вдовец / вдова        6.6%\n",
       "в разводе             7.1%\n",
       "женат / замужем       7.5%\n",
       "гражданский брак      9.3%\n",
       "не женат / не замужем 9.8%"
      ]
     },
     "execution_count": 57,
     "metadata": {},
     "output_type": "execute_result"
    }
   ],
   "source": [
    "print('Процент задолженности по кредитам в зависимости от семейного положения')\n",
    "data_credit_clients.groupby('family_status').agg({'debt':['mean']}).sort_values(by=[('debt','mean')])"
   ]
  },
  {
   "cell_type": "markdown",
   "metadata": {},
   "source": [
    "### Вывод"
   ]
  },
  {
   "cell_type": "markdown",
   "metadata": {},
   "source": [
    "Количество заемщиков в браке примерно равно сумме заемщиков в браке не состоящих.   \n",
    "Разброс значений процентов заемщиков имеющих задолженности по выплате кредита во всех категориях 6,6-9,8%.   \n",
    "В зависимости от семейного положения % заемщиков с задолженностями колеблется в пределах 3%.\n",
    "\n",
    "- #### Можно говорить о том что семейное положение мало влияет на возврат кредита в срок.     Разброс в 3% на малых величинах - это слабое влияние на результат. Но следует обращать внимание на заемщиков из категорий \"не женат / не замужем\" и \"гражданский брак\" - у них формально самый высокий процент невозврата.\t"
   ]
  },
  {
   "cell_type": "markdown",
   "metadata": {},
   "source": [
    "- #### Есть ли зависимость между уровнем дохода и возвратом кредита в срок?"
   ]
  },
  {
   "cell_type": "markdown",
   "metadata": {},
   "source": [
    "Проверим распределение состояния заемщиков \"долг есть / долга нет\" по категории \"доход\" "
   ]
  },
  {
   "cell_type": "code",
   "execution_count": 58,
   "metadata": {
    "scrolled": true
   },
   "outputs": [
    {
     "data": {
      "text/html": [
       "<div>\n",
       "<style scoped>\n",
       "    .dataframe tbody tr th:only-of-type {\n",
       "        vertical-align: middle;\n",
       "    }\n",
       "\n",
       "    .dataframe tbody tr th {\n",
       "        vertical-align: top;\n",
       "    }\n",
       "\n",
       "    .dataframe thead th {\n",
       "        text-align: right;\n",
       "    }\n",
       "</style>\n",
       "<table border=\"1\" class=\"dataframe\">\n",
       "  <thead>\n",
       "    <tr style=\"text-align: right;\">\n",
       "      <th></th>\n",
       "      <th></th>\n",
       "      <th>count</th>\n",
       "    </tr>\n",
       "    <tr>\n",
       "      <th>total_income_group</th>\n",
       "      <th>debt_group</th>\n",
       "      <th></th>\n",
       "    </tr>\n",
       "  </thead>\n",
       "  <tbody>\n",
       "    <tr>\n",
       "      <td rowspan=\"2\" valign=\"top\">101-200 тыс.руб.</td>\n",
       "      <td>долг есть</td>\n",
       "      <td>1029</td>\n",
       "    </tr>\n",
       "    <tr>\n",
       "      <td>долга нет</td>\n",
       "      <td>10895</td>\n",
       "    </tr>\n",
       "    <tr>\n",
       "      <td rowspan=\"2\" valign=\"top\">201-500 тыс.руб.</td>\n",
       "      <td>долг есть</td>\n",
       "      <td>336</td>\n",
       "    </tr>\n",
       "    <tr>\n",
       "      <td>долга нет</td>\n",
       "      <td>4448</td>\n",
       "    </tr>\n",
       "    <tr>\n",
       "      <td rowspan=\"2\" valign=\"top\">до 100 тыс.руб.</td>\n",
       "      <td>долг есть</td>\n",
       "      <td>354</td>\n",
       "    </tr>\n",
       "    <tr>\n",
       "      <td>долга нет</td>\n",
       "      <td>4109</td>\n",
       "    </tr>\n",
       "    <tr>\n",
       "      <td rowspan=\"2\" valign=\"top\">свыше 500 тыс.руб.</td>\n",
       "      <td>долг есть</td>\n",
       "      <td>22</td>\n",
       "    </tr>\n",
       "    <tr>\n",
       "      <td>долга нет</td>\n",
       "      <td>260</td>\n",
       "    </tr>\n",
       "  </tbody>\n",
       "</table>\n",
       "</div>"
      ],
      "text/plain": [
       "                               count\n",
       "total_income_group debt_group       \n",
       "101-200 тыс.руб.   долг есть    1029\n",
       "                   долга нет   10895\n",
       "201-500 тыс.руб.   долг есть     336\n",
       "                   долга нет    4448\n",
       "до 100 тыс.руб.    долг есть     354\n",
       "                   долга нет    4109\n",
       "свыше 500 тыс.руб. долг есть      22\n",
       "                   долга нет     260"
      ]
     },
     "execution_count": 58,
     "metadata": {},
     "output_type": "execute_result"
    }
   ],
   "source": [
    "data_credit_clients.groupby(['total_income_group', 'debt_group'])['debt_group'] \\\n",
    "                     .agg(['count']).sort_values(by='total_income_group', ascending=True)"
   ]
  },
  {
   "cell_type": "code",
   "execution_count": 59,
   "metadata": {},
   "outputs": [
    {
     "name": "stdout",
     "output_type": "stream",
     "text": [
      "Процент задолженности по кредитам в зависимости от уровня дохода\n"
     ]
    },
    {
     "data": {
      "text/html": [
       "<div>\n",
       "<style scoped>\n",
       "    .dataframe tbody tr th:only-of-type {\n",
       "        vertical-align: middle;\n",
       "    }\n",
       "\n",
       "    .dataframe tbody tr th {\n",
       "        vertical-align: top;\n",
       "    }\n",
       "\n",
       "    .dataframe thead tr th {\n",
       "        text-align: left;\n",
       "    }\n",
       "\n",
       "    .dataframe thead tr:last-of-type th {\n",
       "        text-align: right;\n",
       "    }\n",
       "</style>\n",
       "<table border=\"1\" class=\"dataframe\">\n",
       "  <thead>\n",
       "    <tr>\n",
       "      <th></th>\n",
       "      <th>debt</th>\n",
       "    </tr>\n",
       "    <tr>\n",
       "      <th></th>\n",
       "      <th>mean</th>\n",
       "    </tr>\n",
       "    <tr>\n",
       "      <th>total_income_group</th>\n",
       "      <th></th>\n",
       "    </tr>\n",
       "  </thead>\n",
       "  <tbody>\n",
       "    <tr>\n",
       "      <td>201-500 тыс.руб.</td>\n",
       "      <td>7.0%</td>\n",
       "    </tr>\n",
       "    <tr>\n",
       "      <td>свыше 500 тыс.руб.</td>\n",
       "      <td>7.8%</td>\n",
       "    </tr>\n",
       "    <tr>\n",
       "      <td>до 100 тыс.руб.</td>\n",
       "      <td>7.9%</td>\n",
       "    </tr>\n",
       "    <tr>\n",
       "      <td>101-200 тыс.руб.</td>\n",
       "      <td>8.6%</td>\n",
       "    </tr>\n",
       "  </tbody>\n",
       "</table>\n",
       "</div>"
      ],
      "text/plain": [
       "                   debt\n",
       "                   mean\n",
       "total_income_group     \n",
       "201-500 тыс.руб.   7.0%\n",
       "свыше 500 тыс.руб. 7.8%\n",
       "до 100 тыс.руб.    7.9%\n",
       "101-200 тыс.руб.   8.6%"
      ]
     },
     "execution_count": 59,
     "metadata": {},
     "output_type": "execute_result"
    }
   ],
   "source": [
    "print('Процент задолженности по кредитам в зависимости от уровня дохода')\n",
    "data_credit_clients.groupby('total_income_group').agg({'debt':['mean']}).sort_values(by=[('debt','mean')])"
   ]
  },
  {
   "cell_type": "markdown",
   "metadata": {},
   "source": [
    "### Вывод"
   ]
  },
  {
   "cell_type": "markdown",
   "metadata": {},
   "source": [
    "По всем выделенным категориям дохода процент просроченных кредитов варьируется от 7,0% до 8,6% (в пределах своей категории). Разброс в значениях составляет 1,6%\n",
    "- #### Можно говорить о том что уровень дохода мало влияет на возврат кредита в срок. Формально заемщики с доходом 101-200 тыс.руб. менее дисциплинированы"
   ]
  },
  {
   "cell_type": "markdown",
   "metadata": {},
   "source": [
    "- #### Как разные цели кредита влияют на его возврат в срок?"
   ]
  },
  {
   "cell_type": "markdown",
   "metadata": {},
   "source": [
    "Проверим распределение состояния заемщиков \"долг есть / долга нет\" по категории \"цели кредита\" "
   ]
  },
  {
   "cell_type": "code",
   "execution_count": 60,
   "metadata": {},
   "outputs": [
    {
     "data": {
      "text/html": [
       "<div>\n",
       "<style scoped>\n",
       "    .dataframe tbody tr th:only-of-type {\n",
       "        vertical-align: middle;\n",
       "    }\n",
       "\n",
       "    .dataframe tbody tr th {\n",
       "        vertical-align: top;\n",
       "    }\n",
       "\n",
       "    .dataframe thead th {\n",
       "        text-align: right;\n",
       "    }\n",
       "</style>\n",
       "<table border=\"1\" class=\"dataframe\">\n",
       "  <thead>\n",
       "    <tr style=\"text-align: right;\">\n",
       "      <th></th>\n",
       "      <th></th>\n",
       "      <th>debt</th>\n",
       "    </tr>\n",
       "    <tr>\n",
       "      <th>purpose</th>\n",
       "      <th>debt_group</th>\n",
       "      <th></th>\n",
       "    </tr>\n",
       "  </thead>\n",
       "  <tbody>\n",
       "    <tr>\n",
       "      <td rowspan=\"2\" valign=\"top\">автомобиль</td>\n",
       "      <td>долг есть</td>\n",
       "      <td>403</td>\n",
       "    </tr>\n",
       "    <tr>\n",
       "      <td>долга нет</td>\n",
       "      <td>3903</td>\n",
       "    </tr>\n",
       "    <tr>\n",
       "      <td rowspan=\"2\" valign=\"top\">недвижимость</td>\n",
       "      <td>долг есть</td>\n",
       "      <td>782</td>\n",
       "    </tr>\n",
       "    <tr>\n",
       "      <td>долга нет</td>\n",
       "      <td>10028</td>\n",
       "    </tr>\n",
       "    <tr>\n",
       "      <td rowspan=\"2\" valign=\"top\">образование</td>\n",
       "      <td>долг есть</td>\n",
       "      <td>370</td>\n",
       "    </tr>\n",
       "    <tr>\n",
       "      <td>долга нет</td>\n",
       "      <td>3643</td>\n",
       "    </tr>\n",
       "    <tr>\n",
       "      <td rowspan=\"2\" valign=\"top\">свадьба</td>\n",
       "      <td>долг есть</td>\n",
       "      <td>186</td>\n",
       "    </tr>\n",
       "    <tr>\n",
       "      <td>долга нет</td>\n",
       "      <td>2138</td>\n",
       "    </tr>\n",
       "  </tbody>\n",
       "</table>\n",
       "</div>"
      ],
      "text/plain": [
       "                          debt\n",
       "purpose      debt_group       \n",
       "автомобиль   долг есть     403\n",
       "             долга нет    3903\n",
       "недвижимость долг есть     782\n",
       "             долга нет   10028\n",
       "образование  долг есть     370\n",
       "             долга нет    3643\n",
       "свадьба      долг есть     186\n",
       "             долга нет    2138"
      ]
     },
     "execution_count": 60,
     "metadata": {},
     "output_type": "execute_result"
    }
   ],
   "source": [
    "purpose_grouped = data_credit_clients.pivot_table(index=['purpose', 'debt_group'], values='debt', aggfunc='count')\n",
    "purpose_grouped                                              "
   ]
  },
  {
   "cell_type": "code",
   "execution_count": 61,
   "metadata": {},
   "outputs": [
    {
     "name": "stdout",
     "output_type": "stream",
     "text": [
      "Процент задолженности по кредитам в зависимости от цели кредита\n"
     ]
    },
    {
     "data": {
      "text/html": [
       "<div>\n",
       "<style scoped>\n",
       "    .dataframe tbody tr th:only-of-type {\n",
       "        vertical-align: middle;\n",
       "    }\n",
       "\n",
       "    .dataframe tbody tr th {\n",
       "        vertical-align: top;\n",
       "    }\n",
       "\n",
       "    .dataframe thead tr th {\n",
       "        text-align: left;\n",
       "    }\n",
       "\n",
       "    .dataframe thead tr:last-of-type th {\n",
       "        text-align: right;\n",
       "    }\n",
       "</style>\n",
       "<table border=\"1\" class=\"dataframe\">\n",
       "  <thead>\n",
       "    <tr>\n",
       "      <th></th>\n",
       "      <th>debt</th>\n",
       "    </tr>\n",
       "    <tr>\n",
       "      <th></th>\n",
       "      <th>mean</th>\n",
       "    </tr>\n",
       "    <tr>\n",
       "      <th>purpose</th>\n",
       "      <th></th>\n",
       "    </tr>\n",
       "  </thead>\n",
       "  <tbody>\n",
       "    <tr>\n",
       "      <td>недвижимость</td>\n",
       "      <td>7.2%</td>\n",
       "    </tr>\n",
       "    <tr>\n",
       "      <td>свадьба</td>\n",
       "      <td>8.0%</td>\n",
       "    </tr>\n",
       "    <tr>\n",
       "      <td>образование</td>\n",
       "      <td>9.2%</td>\n",
       "    </tr>\n",
       "    <tr>\n",
       "      <td>автомобиль</td>\n",
       "      <td>9.4%</td>\n",
       "    </tr>\n",
       "  </tbody>\n",
       "</table>\n",
       "</div>"
      ],
      "text/plain": [
       "             debt\n",
       "             mean\n",
       "purpose          \n",
       "недвижимость 7.2%\n",
       "свадьба      8.0%\n",
       "образование  9.2%\n",
       "автомобиль   9.4%"
      ]
     },
     "execution_count": 61,
     "metadata": {},
     "output_type": "execute_result"
    }
   ],
   "source": [
    "print('Процент задолженности по кредитам в зависимости от цели кредита')\n",
    "data_credit_clients.groupby('purpose').agg({'debt':['mean']}).sort_values(by=[('debt','mean')])"
   ]
  },
  {
   "cell_type": "markdown",
   "metadata": {},
   "source": [
    "### Вывод"
   ]
  },
  {
   "cell_type": "markdown",
   "metadata": {},
   "source": [
    "Процент заемщиков имеющих задолженность в определенных нами категориях варьируется в пределах 7,2-9,4%\n",
    "- #### Можно говорить о том что цель кредита мало влияет на возврат кредита в срок. Формально самые дисциплинированные заемщики те кто брал кредит на недвижимость, больше всего проблем с заемщиками у кого цели кредита автомобиль и образования."
   ]
  },
  {
   "cell_type": "code",
   "execution_count": 62,
   "metadata": {},
   "outputs": [
    {
     "data": {
      "text/html": [
       "<div>\n",
       "<style scoped>\n",
       "    .dataframe tbody tr th:only-of-type {\n",
       "        vertical-align: middle;\n",
       "    }\n",
       "\n",
       "    .dataframe tbody tr th {\n",
       "        vertical-align: top;\n",
       "    }\n",
       "\n",
       "    .dataframe thead th {\n",
       "        text-align: right;\n",
       "    }\n",
       "</style>\n",
       "<table border=\"1\" class=\"dataframe\">\n",
       "  <thead>\n",
       "    <tr style=\"text-align: right;\">\n",
       "      <th>debt_group</th>\n",
       "      <th>долг есть</th>\n",
       "      <th>долга нет</th>\n",
       "      <th>share</th>\n",
       "    </tr>\n",
       "    <tr>\n",
       "      <th>purpose</th>\n",
       "      <th></th>\n",
       "      <th></th>\n",
       "      <th></th>\n",
       "    </tr>\n",
       "  </thead>\n",
       "  <tbody>\n",
       "    <tr>\n",
       "      <td>автомобиль</td>\n",
       "      <td>403</td>\n",
       "      <td>3903</td>\n",
       "      <td>9.4%</td>\n",
       "    </tr>\n",
       "    <tr>\n",
       "      <td>недвижимость</td>\n",
       "      <td>782</td>\n",
       "      <td>10028</td>\n",
       "      <td>7.2%</td>\n",
       "    </tr>\n",
       "    <tr>\n",
       "      <td>образование</td>\n",
       "      <td>370</td>\n",
       "      <td>3643</td>\n",
       "      <td>9.2%</td>\n",
       "    </tr>\n",
       "    <tr>\n",
       "      <td>свадьба</td>\n",
       "      <td>186</td>\n",
       "      <td>2138</td>\n",
       "      <td>8.0%</td>\n",
       "    </tr>\n",
       "  </tbody>\n",
       "</table>\n",
       "</div>"
      ],
      "text/plain": [
       "debt_group    долг есть  долга нет  share\n",
       "purpose                                  \n",
       "автомобиль          403       3903   9.4%\n",
       "недвижимость        782      10028   7.2%\n",
       "образование         370       3643   9.2%\n",
       "свадьба             186       2138   8.0%"
      ]
     },
     "execution_count": 62,
     "metadata": {},
     "output_type": "execute_result"
    }
   ],
   "source": [
    "purpose_grouped = data_credit_clients.pivot_table(index='purpose', columns='debt_group', values='debt', aggfunc='count')\n",
    "purpose_grouped['share'] = purpose_grouped.iloc[:, 0] / (purpose_grouped.iloc[:, 0] + purpose_grouped.iloc[:, 1])\n",
    "purpose_grouped"
   ]
  },
  {
   "cell_type": "code",
   "execution_count": 65,
   "metadata": {
    "scrolled": true
   },
   "outputs": [
    {
     "data": {
      "text/html": [
       "<div>\n",
       "<style scoped>\n",
       "    .dataframe tbody tr th:only-of-type {\n",
       "        vertical-align: middle;\n",
       "    }\n",
       "\n",
       "    .dataframe tbody tr th {\n",
       "        vertical-align: top;\n",
       "    }\n",
       "\n",
       "    .dataframe thead th {\n",
       "        text-align: right;\n",
       "    }\n",
       "</style>\n",
       "<table border=\"1\" class=\"dataframe\">\n",
       "  <thead>\n",
       "    <tr style=\"text-align: right;\">\n",
       "      <th>debt_group</th>\n",
       "      <th>долг есть</th>\n",
       "      <th>долга нет</th>\n",
       "      <th>share</th>\n",
       "    </tr>\n",
       "    <tr>\n",
       "      <th>purpose</th>\n",
       "      <th></th>\n",
       "      <th></th>\n",
       "      <th></th>\n",
       "    </tr>\n",
       "  </thead>\n",
       "  <tbody>\n",
       "    <tr>\n",
       "      <td>недвижимость</td>\n",
       "      <td>782</td>\n",
       "      <td>10028</td>\n",
       "      <td>7.2%</td>\n",
       "    </tr>\n",
       "    <tr>\n",
       "      <td>свадьба</td>\n",
       "      <td>186</td>\n",
       "      <td>2138</td>\n",
       "      <td>8.0%</td>\n",
       "    </tr>\n",
       "    <tr>\n",
       "      <td>образование</td>\n",
       "      <td>370</td>\n",
       "      <td>3643</td>\n",
       "      <td>9.2%</td>\n",
       "    </tr>\n",
       "    <tr>\n",
       "      <td>автомобиль</td>\n",
       "      <td>403</td>\n",
       "      <td>3903</td>\n",
       "      <td>9.4%</td>\n",
       "    </tr>\n",
       "  </tbody>\n",
       "</table>\n",
       "</div>"
      ],
      "text/plain": [
       "debt_group    долг есть  долга нет  share\n",
       "purpose                                  \n",
       "недвижимость        782      10028   7.2%\n",
       "свадьба             186       2138   8.0%\n",
       "образование         370       3643   9.2%\n",
       "автомобиль          403       3903   9.4%"
      ]
     },
     "execution_count": 65,
     "metadata": {},
     "output_type": "execute_result"
    }
   ],
   "source": [
    "purpose_grouped = data_credit_clients.pivot_table(index='purpose', columns='debt_group', values='debt', aggfunc='count')\n",
    "purpose_grouped['share'] = data_credit_clients.groupby('purpose').agg({'debt':['mean']})\n",
    "purpose_grouped.sort_values(by=['share'])"
   ]
  },
  {
   "cell_type": "markdown",
   "metadata": {},
   "source": [
    "### Шаг 4. Общий вывод"
   ]
  },
  {
   "cell_type": "markdown",
   "metadata": {},
   "source": [
    "По заданию, нужно было выяснить влияют ли заданные факторы на способность заемщика возвращать кредит в срок.  \n",
    "- Есть ли зависимость между наличием детей и возвратом кредита в срок?\n",
    "- Есть ли зависимость между семейным положением и возвратом кредита в срок?\n",
    "- Есть ли зависимость между уровнем дохода и возвратом кредита в срок?\n",
    "- Как разные цели кредита влияют на его возврат в срок?\n",
    "   \n",
    "#### Зависимость на возврат кредита от перечисленных факторов минимальна и находится в пределах 2% от общего % задолженности 8,8%  \n",
    "\n",
    "Сравнение показалей возврата кредита показало, что:\n",
    "- #### Общий процент заемщиков имеющих задолженность 8.8%     \n",
    "- #### Количество детей мало влияет на возврат кредита в срок. Но формально заемщики без детей более дисциплинированы.\n",
    "    - Процент заемщиков без детей имеющих задолженности по выплате кредита - 7,5%   \n",
    "    - Процент заемщиков с детьми имеющих задолженности по выплате кредита - 8,2% - 10,5%  \n",
    "    - В зависимости от количества детей % заемщиков с задолженностями колеблется в пределах 2%.   \n",
    "    - При этом меньше всего должников среди заемщиков с тремя детьми - 8,2%, если детей 1, 2, 4 \n",
    "        или 20 - таких должников 9-10%   \n",
    "    - Выбиваются из статистики данные по заемщикам с 5 детьми - там нет задолженностей. Но так как таких всего 9 - это не показательная статистика.\n",
    "- #### Семейное положение мало влияет на возврат кредита в срок. Но следует обращать внимание на заемщиков из категорий \"не женат / не замужем\" и \"гражданский брак\" - у них формально самый высокий процент невозврата\n",
    "    - Разброс значений процентов заемщиков имеющих задолженности по выплате кредита во всех категориях 6,6-9,8%. (в пределах 3%)\n",
    "    - Самый высокий процент задолженности по категориям \"не женат / не замужем\" = 9.8% и \"гражданский брак\"= 9.3%\n",
    "    - Самый низкий процент задолженности по категории \"вдовец / вдова\" = 6,6%. \n",
    "    - Средний показатель процента задолженности по категориям \"в разводе\" = 7,1% и \"женат / замужем\" = 7.5%\n",
    "- #### Уровень дохода мало влияет на возврат кредита в срок. Формально заемщики с доходом 101-200 тыс.руб. менее дисциплинированы.\n",
    "    - Значения ежемесячного дохода были разбиты на категории по уровню дохода:\n",
    "        - до 100 тыс.руб.\n",
    "        - 101-200 тыс.руб.\t\n",
    "        - 201-500 тыс.руб.\n",
    "        - свыше 500 тыс.руб.\n",
    "    - По всем выделенным категориям дохода процент просроченных кредитов варьируется от 7,0% до 8,6%. (в пределах 1,6%)\n",
    "    - Самый высокий процент задолженности у категории уровня дохода 101-200 тыс.руб. = 8.6%, по остальным категориям процент задолженности 7,0-7,9% \n",
    "- #### Цель кредита мало влияет на возврат кредита в срок. Формально самые дисциплинированные заемщики те кто брал кредит на недвижимость, больше всего проблем с заемщиками у кого цели кредита автомобиль и образования.\n",
    "    - Все обозначенные цели кредита были разбиты на несколько категорий соответсвующих исходному тексту:\n",
    "         - автомобиль\n",
    "         - недвижимость\n",
    "         - образование\n",
    "         - свадьба\t\n",
    "    - Процент заемщиков имеющих задолженность в определенных нами категориях варьируется в пределах 7,2-9,4%\n",
    "    - Самый высокий процент задолженности по категории \"автомобиль\" = 9.4% и \"образование\"= 9.2%\n",
    "    - Самый низкий процент задолженности по категории \"недвижимость\" = 7.2%. По категории \"свадьба\" = 8%"
   ]
  }
 ],
 "metadata": {
  "kernelspec": {
   "display_name": "Python 3",
   "language": "python",
   "name": "python3"
  },
  "language_info": {
   "codemirror_mode": {
    "name": "ipython",
    "version": 3
   },
   "file_extension": ".py",
   "mimetype": "text/x-python",
   "name": "python",
   "nbconvert_exporter": "python",
   "pygments_lexer": "ipython3",
   "version": "3.7.6"
  }
 },
 "nbformat": 4,
 "nbformat_minor": 2
}
